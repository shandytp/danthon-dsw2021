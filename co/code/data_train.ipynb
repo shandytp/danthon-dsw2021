{
 "metadata": {
  "language_info": {
   "codemirror_mode": {
    "name": "ipython",
    "version": 3
   },
   "file_extension": ".py",
   "mimetype": "text/x-python",
   "name": "python",
   "nbconvert_exporter": "python",
   "pygments_lexer": "ipython3",
   "version": "3.8.7-final"
  },
  "orig_nbformat": 2,
  "kernelspec": {
   "name": "python3",
   "display_name": "Python 3.8.7 64-bit ('env')",
   "metadata": {
    "interpreter": {
     "hash": "2775594003c80662b1b37a349716933d56ed8306b2759a3f039c141e74826f5c"
    }
   }
  }
 },
 "nbformat": 4,
 "nbformat_minor": 2,
 "cells": [
  {
   "cell_type": "code",
   "execution_count": 23,
   "metadata": {},
   "outputs": [],
   "source": [
    "import pandas as pd\n",
    "import numpy as np\n",
    "import matplotlib.pyplot as plt\n",
    "import seaborn as sns\n",
    "\n",
    "%matplotlib inline"
   ]
  },
  {
   "cell_type": "code",
   "execution_count": 24,
   "metadata": {},
   "outputs": [],
   "source": [
    "df = pd.read_csv('D:/Sinau/danthon-dsw2021/co/danthon2021/data_train.csv')"
   ]
  },
  {
   "cell_type": "code",
   "execution_count": 25,
   "metadata": {},
   "outputs": [
    {
     "output_type": "execute_result",
     "data": {
      "text/plain": [
       "                       Ids  Labels\n",
       "0  2e69e9384_2020-10-06_13    True\n",
       "1  2e6992c7c_2020-10-02_17    True\n",
       "2  2e69ef474_2020-09-13_19    True\n",
       "3  2e69c5fd4_2020-10-10_15    True\n",
       "4  2e6992134_2020-09-12_11    True"
      ],
      "text/html": "<div>\n<style scoped>\n    .dataframe tbody tr th:only-of-type {\n        vertical-align: middle;\n    }\n\n    .dataframe tbody tr th {\n        vertical-align: top;\n    }\n\n    .dataframe thead th {\n        text-align: right;\n    }\n</style>\n<table border=\"1\" class=\"dataframe\">\n  <thead>\n    <tr style=\"text-align: right;\">\n      <th></th>\n      <th>Ids</th>\n      <th>Labels</th>\n    </tr>\n  </thead>\n  <tbody>\n    <tr>\n      <th>0</th>\n      <td>2e69e9384_2020-10-06_13</td>\n      <td>True</td>\n    </tr>\n    <tr>\n      <th>1</th>\n      <td>2e6992c7c_2020-10-02_17</td>\n      <td>True</td>\n    </tr>\n    <tr>\n      <th>2</th>\n      <td>2e69ef474_2020-09-13_19</td>\n      <td>True</td>\n    </tr>\n    <tr>\n      <th>3</th>\n      <td>2e69c5fd4_2020-10-10_15</td>\n      <td>True</td>\n    </tr>\n    <tr>\n      <th>4</th>\n      <td>2e6992134_2020-09-12_11</td>\n      <td>True</td>\n    </tr>\n  </tbody>\n</table>\n</div>"
     },
     "metadata": {},
     "execution_count": 25
    }
   ],
   "source": [
    "df.head()"
   ]
  },
  {
   "cell_type": "code",
   "execution_count": 26,
   "metadata": {},
   "outputs": [],
   "source": [
    "df['token'] = df['Ids'].str[0:9]"
   ]
  },
  {
   "cell_type": "code",
   "execution_count": 27,
   "metadata": {},
   "outputs": [],
   "source": [
    "df['year'] = df['Ids'].str[10:14]"
   ]
  },
  {
   "cell_type": "code",
   "execution_count": 28,
   "metadata": {},
   "outputs": [],
   "source": [
    "df['month'] = df['Ids'].str[15:17]"
   ]
  },
  {
   "cell_type": "code",
   "execution_count": 33,
   "metadata": {},
   "outputs": [],
   "source": [
    "df['date'] = df['Ids'].str[18:20]"
   ]
  },
  {
   "cell_type": "code",
   "execution_count": 35,
   "metadata": {},
   "outputs": [],
   "source": [
    "df['hour'] = df['Ids'].str[21:]"
   ]
  },
  {
   "cell_type": "code",
   "execution_count": 36,
   "metadata": {},
   "outputs": [
    {
     "output_type": "execute_result",
     "data": {
      "text/plain": [
       "                           Ids  Labels      token  year month date hour\n",
       "0      2e69e9384_2020-10-06_13    True  2e69e9384  2020    10   06   13\n",
       "1      2e6992c7c_2020-10-02_17    True  2e6992c7c  2020    10   02   17\n",
       "2      2e69ef474_2020-09-13_19    True  2e69ef474  2020    09   13   19\n",
       "3      2e69c5fd4_2020-10-10_15    True  2e69c5fd4  2020    10   10   15\n",
       "4      2e6992134_2020-09-12_11    True  2e6992134  2020    09   12   11\n",
       "...                        ...     ...        ...   ...   ...  ...  ...\n",
       "71331  2e69eea5c_2020-11-09_10   False  2e69eea5c  2020    11   09   10\n",
       "71332  2e69c5944_2020-10-27_12    True  2e69c5944  2020    10   27   12\n",
       "71333  2e69f2cd4_2020-11-07_14    True  2e69f2cd4  2020    11   07   14\n",
       "71334   2e68e64e4_2020-09-23_9   False  2e68e64e4  2020    09   23    9\n",
       "71335  2e68e6084_2020-10-18_12   False  2e68e6084  2020    10   18   12\n",
       "\n",
       "[71336 rows x 7 columns]"
      ],
      "text/html": "<div>\n<style scoped>\n    .dataframe tbody tr th:only-of-type {\n        vertical-align: middle;\n    }\n\n    .dataframe tbody tr th {\n        vertical-align: top;\n    }\n\n    .dataframe thead th {\n        text-align: right;\n    }\n</style>\n<table border=\"1\" class=\"dataframe\">\n  <thead>\n    <tr style=\"text-align: right;\">\n      <th></th>\n      <th>Ids</th>\n      <th>Labels</th>\n      <th>token</th>\n      <th>year</th>\n      <th>month</th>\n      <th>date</th>\n      <th>hour</th>\n    </tr>\n  </thead>\n  <tbody>\n    <tr>\n      <th>0</th>\n      <td>2e69e9384_2020-10-06_13</td>\n      <td>True</td>\n      <td>2e69e9384</td>\n      <td>2020</td>\n      <td>10</td>\n      <td>06</td>\n      <td>13</td>\n    </tr>\n    <tr>\n      <th>1</th>\n      <td>2e6992c7c_2020-10-02_17</td>\n      <td>True</td>\n      <td>2e6992c7c</td>\n      <td>2020</td>\n      <td>10</td>\n      <td>02</td>\n      <td>17</td>\n    </tr>\n    <tr>\n      <th>2</th>\n      <td>2e69ef474_2020-09-13_19</td>\n      <td>True</td>\n      <td>2e69ef474</td>\n      <td>2020</td>\n      <td>09</td>\n      <td>13</td>\n      <td>19</td>\n    </tr>\n    <tr>\n      <th>3</th>\n      <td>2e69c5fd4_2020-10-10_15</td>\n      <td>True</td>\n      <td>2e69c5fd4</td>\n      <td>2020</td>\n      <td>10</td>\n      <td>10</td>\n      <td>15</td>\n    </tr>\n    <tr>\n      <th>4</th>\n      <td>2e6992134_2020-09-12_11</td>\n      <td>True</td>\n      <td>2e6992134</td>\n      <td>2020</td>\n      <td>09</td>\n      <td>12</td>\n      <td>11</td>\n    </tr>\n    <tr>\n      <th>...</th>\n      <td>...</td>\n      <td>...</td>\n      <td>...</td>\n      <td>...</td>\n      <td>...</td>\n      <td>...</td>\n      <td>...</td>\n    </tr>\n    <tr>\n      <th>71331</th>\n      <td>2e69eea5c_2020-11-09_10</td>\n      <td>False</td>\n      <td>2e69eea5c</td>\n      <td>2020</td>\n      <td>11</td>\n      <td>09</td>\n      <td>10</td>\n    </tr>\n    <tr>\n      <th>71332</th>\n      <td>2e69c5944_2020-10-27_12</td>\n      <td>True</td>\n      <td>2e69c5944</td>\n      <td>2020</td>\n      <td>10</td>\n      <td>27</td>\n      <td>12</td>\n    </tr>\n    <tr>\n      <th>71333</th>\n      <td>2e69f2cd4_2020-11-07_14</td>\n      <td>True</td>\n      <td>2e69f2cd4</td>\n      <td>2020</td>\n      <td>11</td>\n      <td>07</td>\n      <td>14</td>\n    </tr>\n    <tr>\n      <th>71334</th>\n      <td>2e68e64e4_2020-09-23_9</td>\n      <td>False</td>\n      <td>2e68e64e4</td>\n      <td>2020</td>\n      <td>09</td>\n      <td>23</td>\n      <td>9</td>\n    </tr>\n    <tr>\n      <th>71335</th>\n      <td>2e68e6084_2020-10-18_12</td>\n      <td>False</td>\n      <td>2e68e6084</td>\n      <td>2020</td>\n      <td>10</td>\n      <td>18</td>\n      <td>12</td>\n    </tr>\n  </tbody>\n</table>\n<p>71336 rows × 7 columns</p>\n</div>"
     },
     "metadata": {},
     "execution_count": 36
    }
   ],
   "source": [
    "df"
   ]
  },
  {
   "cell_type": "code",
   "execution_count": 39,
   "metadata": {},
   "outputs": [],
   "source": [
    "df.to_csv('D:/Sinau/danthon-dsw2021/co/data_pre/data_train_pre.csv', index=False)"
   ]
  },
  {
   "cell_type": "code",
   "execution_count": null,
   "metadata": {},
   "outputs": [],
   "source": []
  }
 ]
}