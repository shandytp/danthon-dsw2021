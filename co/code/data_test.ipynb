{
 "metadata": {
  "language_info": {
   "codemirror_mode": {
    "name": "ipython",
    "version": 3
   },
   "file_extension": ".py",
   "mimetype": "text/x-python",
   "name": "python",
   "nbconvert_exporter": "python",
   "pygments_lexer": "ipython3",
   "version": "3.8.7-final"
  },
  "orig_nbformat": 2,
  "kernelspec": {
   "name": "python3",
   "display_name": "Python 3.8.7 64-bit ('env')",
   "metadata": {
    "interpreter": {
     "hash": "2775594003c80662b1b37a349716933d56ed8306b2759a3f039c141e74826f5c"
    }
   }
  }
 },
 "nbformat": 4,
 "nbformat_minor": 2,
 "cells": [
  {
   "cell_type": "code",
   "execution_count": 2,
   "metadata": {},
   "outputs": [],
   "source": [
    "import pandas as pd\n",
    "import numpy as np\n",
    "import matplotlib.pyplot as plt\n",
    "import seaborn as sns\n",
    "\n",
    "%matplotlib inline"
   ]
  },
  {
   "cell_type": "code",
   "execution_count": 3,
   "metadata": {},
   "outputs": [],
   "source": [
    "data = pd.read_csv('D:\\Sinau\\danthon-dsw2021\\co\\danthon2021\\data_test.csv')"
   ]
  },
  {
   "cell_type": "code",
   "execution_count": 4,
   "metadata": {},
   "outputs": [
    {
     "output_type": "execute_result",
     "data": {
      "text/plain": [
       "                           Ids\n",
       "0      2e6992a84_2020-11-25_18\n",
       "1      2e68e62f4_2020-11-29_20\n",
       "2      2e68e81a4_2020-11-27_10\n",
       "3       2e69eec04_2020-11-24_7\n",
       "4       2e698e4a4_2020-11-27_8\n",
       "...                        ...\n",
       "13836   2e68dd414_2020-11-26_5\n",
       "13837  2e698541c_2020-11-24_22\n",
       "13838  2e69e8e0c_2020-11-24_10\n",
       "13839  2e699a1cc_2020-11-24_18\n",
       "13840  2e698d804_2020-11-25_19\n",
       "\n",
       "[13841 rows x 1 columns]"
      ],
      "text/html": "<div>\n<style scoped>\n    .dataframe tbody tr th:only-of-type {\n        vertical-align: middle;\n    }\n\n    .dataframe tbody tr th {\n        vertical-align: top;\n    }\n\n    .dataframe thead th {\n        text-align: right;\n    }\n</style>\n<table border=\"1\" class=\"dataframe\">\n  <thead>\n    <tr style=\"text-align: right;\">\n      <th></th>\n      <th>Ids</th>\n    </tr>\n  </thead>\n  <tbody>\n    <tr>\n      <th>0</th>\n      <td>2e6992a84_2020-11-25_18</td>\n    </tr>\n    <tr>\n      <th>1</th>\n      <td>2e68e62f4_2020-11-29_20</td>\n    </tr>\n    <tr>\n      <th>2</th>\n      <td>2e68e81a4_2020-11-27_10</td>\n    </tr>\n    <tr>\n      <th>3</th>\n      <td>2e69eec04_2020-11-24_7</td>\n    </tr>\n    <tr>\n      <th>4</th>\n      <td>2e698e4a4_2020-11-27_8</td>\n    </tr>\n    <tr>\n      <th>...</th>\n      <td>...</td>\n    </tr>\n    <tr>\n      <th>13836</th>\n      <td>2e68dd414_2020-11-26_5</td>\n    </tr>\n    <tr>\n      <th>13837</th>\n      <td>2e698541c_2020-11-24_22</td>\n    </tr>\n    <tr>\n      <th>13838</th>\n      <td>2e69e8e0c_2020-11-24_10</td>\n    </tr>\n    <tr>\n      <th>13839</th>\n      <td>2e699a1cc_2020-11-24_18</td>\n    </tr>\n    <tr>\n      <th>13840</th>\n      <td>2e698d804_2020-11-25_19</td>\n    </tr>\n  </tbody>\n</table>\n<p>13841 rows × 1 columns</p>\n</div>"
     },
     "metadata": {},
     "execution_count": 4
    }
   ],
   "source": [
    "data"
   ]
  },
  {
   "cell_type": "code",
   "execution_count": 5,
   "metadata": {},
   "outputs": [],
   "source": [
    "data['token'] = data['Ids'].str[0:9]"
   ]
  },
  {
   "cell_type": "code",
   "execution_count": 6,
   "metadata": {},
   "outputs": [],
   "source": [
    "data['year'] = data['Ids'].str[10:14]"
   ]
  },
  {
   "cell_type": "code",
   "execution_count": 7,
   "metadata": {},
   "outputs": [],
   "source": [
    "data['month'] = data['Ids'].str[15:17]"
   ]
  },
  {
   "cell_type": "code",
   "execution_count": 8,
   "metadata": {},
   "outputs": [],
   "source": [
    "data['date'] = data['Ids'].str[18:20]"
   ]
  },
  {
   "cell_type": "code",
   "execution_count": 9,
   "metadata": {},
   "outputs": [],
   "source": [
    "data['hour'] = data['Ids'].str[21:]"
   ]
  },
  {
   "cell_type": "code",
   "execution_count": 10,
   "metadata": {},
   "outputs": [
    {
     "output_type": "execute_result",
     "data": {
      "text/plain": [
       "                           Ids      token  year month date hour\n",
       "0      2e6992a84_2020-11-25_18  2e6992a84  2020    11   25   18\n",
       "1      2e68e62f4_2020-11-29_20  2e68e62f4  2020    11   29   20\n",
       "2      2e68e81a4_2020-11-27_10  2e68e81a4  2020    11   27   10\n",
       "3       2e69eec04_2020-11-24_7  2e69eec04  2020    11   24    7\n",
       "4       2e698e4a4_2020-11-27_8  2e698e4a4  2020    11   27    8\n",
       "...                        ...        ...   ...   ...  ...  ...\n",
       "13836   2e68dd414_2020-11-26_5  2e68dd414  2020    11   26    5\n",
       "13837  2e698541c_2020-11-24_22  2e698541c  2020    11   24   22\n",
       "13838  2e69e8e0c_2020-11-24_10  2e69e8e0c  2020    11   24   10\n",
       "13839  2e699a1cc_2020-11-24_18  2e699a1cc  2020    11   24   18\n",
       "13840  2e698d804_2020-11-25_19  2e698d804  2020    11   25   19\n",
       "\n",
       "[13841 rows x 6 columns]"
      ],
      "text/html": "<div>\n<style scoped>\n    .dataframe tbody tr th:only-of-type {\n        vertical-align: middle;\n    }\n\n    .dataframe tbody tr th {\n        vertical-align: top;\n    }\n\n    .dataframe thead th {\n        text-align: right;\n    }\n</style>\n<table border=\"1\" class=\"dataframe\">\n  <thead>\n    <tr style=\"text-align: right;\">\n      <th></th>\n      <th>Ids</th>\n      <th>token</th>\n      <th>year</th>\n      <th>month</th>\n      <th>date</th>\n      <th>hour</th>\n    </tr>\n  </thead>\n  <tbody>\n    <tr>\n      <th>0</th>\n      <td>2e6992a84_2020-11-25_18</td>\n      <td>2e6992a84</td>\n      <td>2020</td>\n      <td>11</td>\n      <td>25</td>\n      <td>18</td>\n    </tr>\n    <tr>\n      <th>1</th>\n      <td>2e68e62f4_2020-11-29_20</td>\n      <td>2e68e62f4</td>\n      <td>2020</td>\n      <td>11</td>\n      <td>29</td>\n      <td>20</td>\n    </tr>\n    <tr>\n      <th>2</th>\n      <td>2e68e81a4_2020-11-27_10</td>\n      <td>2e68e81a4</td>\n      <td>2020</td>\n      <td>11</td>\n      <td>27</td>\n      <td>10</td>\n    </tr>\n    <tr>\n      <th>3</th>\n      <td>2e69eec04_2020-11-24_7</td>\n      <td>2e69eec04</td>\n      <td>2020</td>\n      <td>11</td>\n      <td>24</td>\n      <td>7</td>\n    </tr>\n    <tr>\n      <th>4</th>\n      <td>2e698e4a4_2020-11-27_8</td>\n      <td>2e698e4a4</td>\n      <td>2020</td>\n      <td>11</td>\n      <td>27</td>\n      <td>8</td>\n    </tr>\n    <tr>\n      <th>...</th>\n      <td>...</td>\n      <td>...</td>\n      <td>...</td>\n      <td>...</td>\n      <td>...</td>\n      <td>...</td>\n    </tr>\n    <tr>\n      <th>13836</th>\n      <td>2e68dd414_2020-11-26_5</td>\n      <td>2e68dd414</td>\n      <td>2020</td>\n      <td>11</td>\n      <td>26</td>\n      <td>5</td>\n    </tr>\n    <tr>\n      <th>13837</th>\n      <td>2e698541c_2020-11-24_22</td>\n      <td>2e698541c</td>\n      <td>2020</td>\n      <td>11</td>\n      <td>24</td>\n      <td>22</td>\n    </tr>\n    <tr>\n      <th>13838</th>\n      <td>2e69e8e0c_2020-11-24_10</td>\n      <td>2e69e8e0c</td>\n      <td>2020</td>\n      <td>11</td>\n      <td>24</td>\n      <td>10</td>\n    </tr>\n    <tr>\n      <th>13839</th>\n      <td>2e699a1cc_2020-11-24_18</td>\n      <td>2e699a1cc</td>\n      <td>2020</td>\n      <td>11</td>\n      <td>24</td>\n      <td>18</td>\n    </tr>\n    <tr>\n      <th>13840</th>\n      <td>2e698d804_2020-11-25_19</td>\n      <td>2e698d804</td>\n      <td>2020</td>\n      <td>11</td>\n      <td>25</td>\n      <td>19</td>\n    </tr>\n  </tbody>\n</table>\n<p>13841 rows × 6 columns</p>\n</div>"
     },
     "metadata": {},
     "execution_count": 10
    }
   ],
   "source": [
    "data"
   ]
  },
  {
   "cell_type": "code",
   "execution_count": 12,
   "metadata": {},
   "outputs": [],
   "source": [
    "data.to_csv('D:\\Sinau\\danthon-dsw2021\\co\\data_pre\\data_test_pre.csv', index=False)"
   ]
  },
  {
   "cell_type": "code",
   "execution_count": null,
   "metadata": {},
   "outputs": [],
   "source": []
  }
 ]
}