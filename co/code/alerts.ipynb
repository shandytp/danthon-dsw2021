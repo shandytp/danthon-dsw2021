{
 "metadata": {
  "language_info": {
   "codemirror_mode": {
    "name": "ipython",
    "version": 3
   },
   "file_extension": ".py",
   "mimetype": "text/x-python",
   "name": "python",
   "nbconvert_exporter": "python",
   "pygments_lexer": "ipython3",
   "version": "3.8.7-final"
  },
  "orig_nbformat": 2,
  "kernelspec": {
   "name": "python3",
   "display_name": "Python 3.8.7 64-bit ('env')",
   "metadata": {
    "interpreter": {
     "hash": "f212e41c9f936e46493a95785767a0cb6f3d5440bf40e28b2520b6385c786f38"
    }
   }
  }
 },
 "nbformat": 4,
 "nbformat_minor": 2,
 "cells": [
  {
   "cell_type": "code",
   "execution_count": 2,
   "metadata": {},
   "outputs": [],
   "source": [
    "import pandas as pd\n",
    "import numpy as np\n",
    "import matplotlib.pyplot as plt\n",
    "import seaborn as sns\n",
    "\n",
    "%matplotlib inline"
   ]
  },
  {
   "cell_type": "code",
   "execution_count": 3,
   "metadata": {},
   "outputs": [],
   "source": [
    "df = pd.read_csv('D:/Sinau/Data Science Weekend/danthon2021/alerts.csv')"
   ]
  },
  {
   "cell_type": "code",
   "execution_count": 4,
   "metadata": {},
   "outputs": [
    {
     "output_type": "stream",
     "name": "stdout",
     "text": [
      "<class 'pandas.core.frame.DataFrame'>\nRangeIndex: 7800662 entries, 0 to 7800661\nData columns (total 18 columns):\n #   Column                       Dtype  \n---  ------                       -----  \n 0   id                           int64  \n 1   pub_millis                   int64  \n 2   s2id_15                      int64  \n 3   s2token_15                   object \n 4   road_type                    int64  \n 5   street                       object \n 6   city                         object \n 7   magvar                       int64  \n 8   reliability                  int64  \n 9   report_description           float64\n 10  report_rating                int64  \n 11  confidence                   int64  \n 12  type                         object \n 13  subtype                      object \n 14  report_by_municipality_user  float64\n 15  n_thumbs_up                  float64\n 16  longitude                    float64\n 17  latitude                     float64\ndtypes: float64(5), int64(8), object(5)\nmemory usage: 1.0+ GB\n"
     ]
    }
   ],
   "source": [
    "df.info()"
   ]
  },
  {
   "cell_type": "code",
   "execution_count": 5,
   "metadata": {},
   "outputs": [
    {
     "output_type": "execute_result",
     "data": {
      "text/plain": [
       "                                               0                    1  \\\n",
       "id                                     177876895            179156987   \n",
       "pub_millis                         1603331480000        1604487892000   \n",
       "s2id_15                      3344466888162803712  3344463130066419712   \n",
       "s2token_15                             2e69eeea4            2e69eb7f4   \n",
       "road_type                                      1                    6   \n",
       "street                                       NaN  N8 Jalan Raya Bogor   \n",
       "city                                       Depok                Depok   \n",
       "magvar                                         0                  170   \n",
       "reliability                                    9                    7   \n",
       "report_description                           NaN                  NaN   \n",
       "report_rating                                  0                    1   \n",
       "confidence                                     1                    1   \n",
       "type                                 ROAD_CLOSED                  JAM   \n",
       "subtype                        ROAD_CLOSED_EVENT    JAM_HEAVY_TRAFFIC   \n",
       "report_by_municipality_user                  NaN                  NaN   \n",
       "n_thumbs_up                                  NaN                  0.0   \n",
       "longitude                             106.788545           106.867141   \n",
       "latitude                               -6.359846            -6.383855   \n",
       "\n",
       "                                               2                        3  \\\n",
       "id                                     181688703                173055165   \n",
       "pub_millis                         1605666614000            1601895721000   \n",
       "s2id_15                      3344367648648462336      3344374458319110144   \n",
       "s2token_15                             2e6994a84                2e699ad9c   \n",
       "road_type                                      7                        2   \n",
       "street                                       NaN       Flyover Tegal Gede   \n",
       "city                                      Bekasi                 Cikarang   \n",
       "magvar                                         0                      319   \n",
       "reliability                                    8                       10   \n",
       "report_description                           NaN                      NaN   \n",
       "report_rating                                  0                        5   \n",
       "confidence                                     1                        0   \n",
       "type                                 ROAD_CLOSED            WEATHERHAZARD   \n",
       "subtype                        ROAD_CLOSED_EVENT  HAZARD_ON_ROAD_POT_HOLE   \n",
       "report_by_municipality_user                  NaN                      NaN   \n",
       "n_thumbs_up                                  NaN                      NaN   \n",
       "longitude                             106.921974               107.143656   \n",
       "latitude                               -6.379087                -6.300441   \n",
       "\n",
       "                                               4  \n",
       "id                                     173802602  \n",
       "pub_millis                         1602464394000  \n",
       "s2id_15                      3344466709921660928  \n",
       "s2token_15                             2e69eec0c  \n",
       "road_type                                      2  \n",
       "street                           Tanjakan Kembar  \n",
       "city                                       Depok  \n",
       "magvar                                       310  \n",
       "reliability                                    5  \n",
       "report_description                           NaN  \n",
       "report_rating                                  3  \n",
       "confidence                                     0  \n",
       "type                                         JAM  \n",
       "subtype                        JAM_HEAVY_TRAFFIC  \n",
       "report_by_municipality_user                  NaN  \n",
       "n_thumbs_up                                  NaN  \n",
       "longitude                              106.79395  \n",
       "latitude                               -6.365677  "
      ],
      "text/html": "<div>\n<style scoped>\n    .dataframe tbody tr th:only-of-type {\n        vertical-align: middle;\n    }\n\n    .dataframe tbody tr th {\n        vertical-align: top;\n    }\n\n    .dataframe thead th {\n        text-align: right;\n    }\n</style>\n<table border=\"1\" class=\"dataframe\">\n  <thead>\n    <tr style=\"text-align: right;\">\n      <th></th>\n      <th>0</th>\n      <th>1</th>\n      <th>2</th>\n      <th>3</th>\n      <th>4</th>\n    </tr>\n  </thead>\n  <tbody>\n    <tr>\n      <th>id</th>\n      <td>177876895</td>\n      <td>179156987</td>\n      <td>181688703</td>\n      <td>173055165</td>\n      <td>173802602</td>\n    </tr>\n    <tr>\n      <th>pub_millis</th>\n      <td>1603331480000</td>\n      <td>1604487892000</td>\n      <td>1605666614000</td>\n      <td>1601895721000</td>\n      <td>1602464394000</td>\n    </tr>\n    <tr>\n      <th>s2id_15</th>\n      <td>3344466888162803712</td>\n      <td>3344463130066419712</td>\n      <td>3344367648648462336</td>\n      <td>3344374458319110144</td>\n      <td>3344466709921660928</td>\n    </tr>\n    <tr>\n      <th>s2token_15</th>\n      <td>2e69eeea4</td>\n      <td>2e69eb7f4</td>\n      <td>2e6994a84</td>\n      <td>2e699ad9c</td>\n      <td>2e69eec0c</td>\n    </tr>\n    <tr>\n      <th>road_type</th>\n      <td>1</td>\n      <td>6</td>\n      <td>7</td>\n      <td>2</td>\n      <td>2</td>\n    </tr>\n    <tr>\n      <th>street</th>\n      <td>NaN</td>\n      <td>N8 Jalan Raya Bogor</td>\n      <td>NaN</td>\n      <td>Flyover Tegal Gede</td>\n      <td>Tanjakan Kembar</td>\n    </tr>\n    <tr>\n      <th>city</th>\n      <td>Depok</td>\n      <td>Depok</td>\n      <td>Bekasi</td>\n      <td>Cikarang</td>\n      <td>Depok</td>\n    </tr>\n    <tr>\n      <th>magvar</th>\n      <td>0</td>\n      <td>170</td>\n      <td>0</td>\n      <td>319</td>\n      <td>310</td>\n    </tr>\n    <tr>\n      <th>reliability</th>\n      <td>9</td>\n      <td>7</td>\n      <td>8</td>\n      <td>10</td>\n      <td>5</td>\n    </tr>\n    <tr>\n      <th>report_description</th>\n      <td>NaN</td>\n      <td>NaN</td>\n      <td>NaN</td>\n      <td>NaN</td>\n      <td>NaN</td>\n    </tr>\n    <tr>\n      <th>report_rating</th>\n      <td>0</td>\n      <td>1</td>\n      <td>0</td>\n      <td>5</td>\n      <td>3</td>\n    </tr>\n    <tr>\n      <th>confidence</th>\n      <td>1</td>\n      <td>1</td>\n      <td>1</td>\n      <td>0</td>\n      <td>0</td>\n    </tr>\n    <tr>\n      <th>type</th>\n      <td>ROAD_CLOSED</td>\n      <td>JAM</td>\n      <td>ROAD_CLOSED</td>\n      <td>WEATHERHAZARD</td>\n      <td>JAM</td>\n    </tr>\n    <tr>\n      <th>subtype</th>\n      <td>ROAD_CLOSED_EVENT</td>\n      <td>JAM_HEAVY_TRAFFIC</td>\n      <td>ROAD_CLOSED_EVENT</td>\n      <td>HAZARD_ON_ROAD_POT_HOLE</td>\n      <td>JAM_HEAVY_TRAFFIC</td>\n    </tr>\n    <tr>\n      <th>report_by_municipality_user</th>\n      <td>NaN</td>\n      <td>NaN</td>\n      <td>NaN</td>\n      <td>NaN</td>\n      <td>NaN</td>\n    </tr>\n    <tr>\n      <th>n_thumbs_up</th>\n      <td>NaN</td>\n      <td>0.0</td>\n      <td>NaN</td>\n      <td>NaN</td>\n      <td>NaN</td>\n    </tr>\n    <tr>\n      <th>longitude</th>\n      <td>106.788545</td>\n      <td>106.867141</td>\n      <td>106.921974</td>\n      <td>107.143656</td>\n      <td>106.79395</td>\n    </tr>\n    <tr>\n      <th>latitude</th>\n      <td>-6.359846</td>\n      <td>-6.383855</td>\n      <td>-6.379087</td>\n      <td>-6.300441</td>\n      <td>-6.365677</td>\n    </tr>\n  </tbody>\n</table>\n</div>"
     },
     "metadata": {},
     "execution_count": 5
    }
   ],
   "source": [
    "df.head().T"
   ]
  },
  {
   "cell_type": "code",
   "execution_count": 6,
   "metadata": {},
   "outputs": [
    {
     "output_type": "execute_result",
     "data": {
      "text/plain": [
       "id                                   0\n",
       "pub_millis                           0\n",
       "s2id_15                              0\n",
       "s2token_15                           0\n",
       "road_type                            0\n",
       "street                         1131669\n",
       "city                                 0\n",
       "magvar                               0\n",
       "reliability                          0\n",
       "report_description             7800662\n",
       "report_rating                        0\n",
       "confidence                           0\n",
       "type                                 0\n",
       "subtype                         196998\n",
       "report_by_municipality_user    7800662\n",
       "n_thumbs_up                    5285538\n",
       "longitude                            0\n",
       "latitude                             0\n",
       "dtype: int64"
      ]
     },
     "metadata": {},
     "execution_count": 6
    }
   ],
   "source": [
    "df.isna().sum()"
   ]
  },
  {
   "cell_type": "code",
   "execution_count": 7,
   "metadata": {},
   "outputs": [
    {
     "output_type": "execute_result",
     "data": {
      "text/plain": [
       "                id     pub_millis              s2id_15 s2token_15  road_type  \\\n",
       "1909252  175242840  1603029642000  3344175919160885248  2e68e647c          2   \n",
       "3863713  175242840  1603029642000  3344175919160885248  2e68e647c          2   \n",
       "\n",
       "              street     city  magvar  reliability  report_description  \\\n",
       "1909252  Purnawarman  Bandung       0            6                 NaN   \n",
       "3863713  Purnawarman  Bandung       0            6                 NaN   \n",
       "\n",
       "         report_rating  confidence         type            subtype  \\\n",
       "1909252              0           0  ROAD_CLOSED  ROAD_CLOSED_EVENT   \n",
       "3863713              0           0  ROAD_CLOSED  ROAD_CLOSED_EVENT   \n",
       "\n",
       "         report_by_municipality_user  n_thumbs_up   longitude  latitude  \n",
       "1909252                          NaN          NaN  107.609332 -6.907551  \n",
       "3863713                          NaN          NaN  107.609332 -6.907551  "
      ],
      "text/html": "<div>\n<style scoped>\n    .dataframe tbody tr th:only-of-type {\n        vertical-align: middle;\n    }\n\n    .dataframe tbody tr th {\n        vertical-align: top;\n    }\n\n    .dataframe thead th {\n        text-align: right;\n    }\n</style>\n<table border=\"1\" class=\"dataframe\">\n  <thead>\n    <tr style=\"text-align: right;\">\n      <th></th>\n      <th>id</th>\n      <th>pub_millis</th>\n      <th>s2id_15</th>\n      <th>s2token_15</th>\n      <th>road_type</th>\n      <th>street</th>\n      <th>city</th>\n      <th>magvar</th>\n      <th>reliability</th>\n      <th>report_description</th>\n      <th>report_rating</th>\n      <th>confidence</th>\n      <th>type</th>\n      <th>subtype</th>\n      <th>report_by_municipality_user</th>\n      <th>n_thumbs_up</th>\n      <th>longitude</th>\n      <th>latitude</th>\n    </tr>\n  </thead>\n  <tbody>\n    <tr>\n      <th>1909252</th>\n      <td>175242840</td>\n      <td>1603029642000</td>\n      <td>3344175919160885248</td>\n      <td>2e68e647c</td>\n      <td>2</td>\n      <td>Purnawarman</td>\n      <td>Bandung</td>\n      <td>0</td>\n      <td>6</td>\n      <td>NaN</td>\n      <td>0</td>\n      <td>0</td>\n      <td>ROAD_CLOSED</td>\n      <td>ROAD_CLOSED_EVENT</td>\n      <td>NaN</td>\n      <td>NaN</td>\n      <td>107.609332</td>\n      <td>-6.907551</td>\n    </tr>\n    <tr>\n      <th>3863713</th>\n      <td>175242840</td>\n      <td>1603029642000</td>\n      <td>3344175919160885248</td>\n      <td>2e68e647c</td>\n      <td>2</td>\n      <td>Purnawarman</td>\n      <td>Bandung</td>\n      <td>0</td>\n      <td>6</td>\n      <td>NaN</td>\n      <td>0</td>\n      <td>0</td>\n      <td>ROAD_CLOSED</td>\n      <td>ROAD_CLOSED_EVENT</td>\n      <td>NaN</td>\n      <td>NaN</td>\n      <td>107.609332</td>\n      <td>-6.907551</td>\n    </tr>\n  </tbody>\n</table>\n</div>"
     },
     "metadata": {},
     "execution_count": 7
    }
   ],
   "source": [
    "df[df['id']==175242840]\n"
   ]
  },
  {
   "cell_type": "code",
   "execution_count": 8,
   "metadata": {},
   "outputs": [
    {
     "output_type": "execute_result",
     "data": {
      "text/plain": [
       "1000000"
      ]
     },
     "metadata": {},
     "execution_count": 8
    }
   ],
   "source": [
    "df.duplicated().sum()"
   ]
  },
  {
   "cell_type": "code",
   "execution_count": 9,
   "metadata": {},
   "outputs": [],
   "source": [
    "df.drop_duplicates(inplace=True)"
   ]
  },
  {
   "cell_type": "code",
   "execution_count": 10,
   "metadata": {},
   "outputs": [
    {
     "output_type": "execute_result",
     "data": {
      "text/plain": [
       "2145"
      ]
     },
     "metadata": {},
     "execution_count": 10
    }
   ],
   "source": [
    "len(df['street'].unique())"
   ]
  },
  {
   "cell_type": "code",
   "execution_count": 11,
   "metadata": {},
   "outputs": [
    {
     "output_type": "execute_result",
     "data": {
      "text/plain": [
       "Bandung              3891363\n",
       "Bekasi               1045831\n",
       "Cikarang              671528\n",
       "Depok                 376116\n",
       "Bogor                 260984\n",
       "Tambun Selatan         71751\n",
       "Setu (Bekasi)          64196\n",
       "Tambun Utara           62154\n",
       "Cibitung (Bekasi)      58107\n",
       "Babelan                57943\n",
       "Parongpong             53146\n",
       "Cileungsi              41040\n",
       "Cibinong               28447\n",
       "Cimahi                 28370\n",
       "Tarumajaya             24832\n",
       "Parung                 19401\n",
       "Serang Baru            14657\n",
       "Gunung Sindur          12166\n",
       "Tangerang Selatan       9465\n",
       "Gunung Putri            9165\n",
       "Name: city, dtype: int64"
      ]
     },
     "metadata": {},
     "execution_count": 11
    }
   ],
   "source": [
    "df['city'].value_counts()"
   ]
  },
  {
   "cell_type": "code",
   "execution_count": 12,
   "metadata": {},
   "outputs": [
    {
     "output_type": "execute_result",
     "data": {
      "text/plain": [
       "360"
      ]
     },
     "metadata": {},
     "execution_count": 12
    }
   ],
   "source": [
    "len(df['magvar'].unique())"
   ]
  },
  {
   "cell_type": "code",
   "execution_count": 13,
   "metadata": {},
   "outputs": [
    {
     "output_type": "execute_result",
     "data": {
      "text/plain": [
       "6     3837304\n",
       "5     1435304\n",
       "10     771024\n",
       "7      333695\n",
       "8      238542\n",
       "9      184793\n",
       "Name: reliability, dtype: int64"
      ]
     },
     "metadata": {},
     "execution_count": 13
    }
   ],
   "source": [
    "df['reliability'].value_counts()"
   ]
  },
  {
   "cell_type": "code",
   "execution_count": 14,
   "metadata": {},
   "outputs": [
    {
     "output_type": "execute_result",
     "data": {
      "text/plain": [
       "array([nan])"
      ]
     },
     "metadata": {},
     "execution_count": 14
    }
   ],
   "source": [
    "df['report_description'].unique()"
   ]
  },
  {
   "cell_type": "code",
   "execution_count": 15,
   "metadata": {},
   "outputs": [
    {
     "output_type": "execute_result",
     "data": {
      "text/plain": [
       "0    4163154\n",
       "3     811759\n",
       "2     603150\n",
       "5     589237\n",
       "1     372478\n",
       "4     260884\n",
       "Name: report_rating, dtype: int64"
      ]
     },
     "metadata": {},
     "execution_count": 15
    }
   ],
   "source": [
    "df['report_rating'].value_counts()"
   ]
  },
  {
   "cell_type": "code",
   "execution_count": 16,
   "metadata": {},
   "outputs": [
    {
     "output_type": "execute_result",
     "data": {
      "text/plain": [
       "0    5640205\n",
       "1     513630\n",
       "2     243531\n",
       "3     153887\n",
       "5     130154\n",
       "4     119255\n",
       "Name: confidence, dtype: int64"
      ]
     },
     "metadata": {},
     "execution_count": 16
    }
   ],
   "source": [
    "df['confidence'].value_counts()"
   ]
  },
  {
   "cell_type": "code",
   "execution_count": 17,
   "metadata": {},
   "outputs": [
    {
     "output_type": "execute_result",
     "data": {
      "text/plain": [
       "ROAD_CLOSED      3722296\n",
       "WEATHERHAZARD    1687483\n",
       "JAM              1307455\n",
       "ACCIDENT           83428\n",
       "Name: type, dtype: int64"
      ]
     },
     "metadata": {},
     "execution_count": 17
    }
   ],
   "source": [
    "df['type'].value_counts()"
   ]
  },
  {
   "cell_type": "code",
   "execution_count": 18,
   "metadata": {},
   "outputs": [
    {
     "output_type": "execute_result",
     "data": {
      "text/plain": [
       "ROAD_CLOSED_EVENT                     3721692\n",
       "HAZARD_ON_ROAD_POT_HOLE               1377854\n",
       "JAM_STAND_STILL_TRAFFIC                628687\n",
       "JAM_HEAVY_TRAFFIC                      412979\n",
       "HAZARD_ON_ROAD_CONSTRUCTION            178818\n",
       "JAM_MODERATE_TRAFFIC                   157406\n",
       "HAZARD_ON_SHOULDER_CAR_STOPPED          65202\n",
       "HAZARD_ON_ROAD_CAR_STOPPED              23679\n",
       "ACCIDENT_MAJOR                          22631\n",
       "ACCIDENT_MINOR                          13415\n",
       "HAZARD_WEATHER_FLOOD                     7481\n",
       "HAZARD_ON_ROAD_OBJECT                    6894\n",
       "HAZARD_ON_ROAD_ROAD_KILL                 2533\n",
       "HAZARD_WEATHER_FOG                       1449\n",
       "HAZARD_ON_ROAD_TRAFFIC_LIGHT_FAULT       1393\n",
       "HAZARD_ON_SHOULDER                       1029\n",
       "HAZARD_WEATHER                           1018\n",
       "HAZARD_ON_ROAD                           1001\n",
       "HAZARD_WEATHER_HAIL                       940\n",
       "HAZARD_ON_SHOULDER_MISSING_SIGN           800\n",
       "HAZARD_ON_SHOULDER_ANIMALS                740\n",
       "HAZARD_WEATHER_HEAVY_SNOW                 549\n",
       "HAZARD_ON_ROAD_ICE                        319\n",
       "ROAD_CLOSED_HAZARD                        217\n",
       "ROAD_CLOSED_CONSTRUCTION                   63\n",
       "JAM_LIGHT_TRAFFIC                          14\n",
       "Name: subtype, dtype: int64"
      ]
     },
     "metadata": {},
     "execution_count": 18
    }
   ],
   "source": [
    "df['subtype'].value_counts()"
   ]
  },
  {
   "cell_type": "code",
   "execution_count": 19,
   "metadata": {},
   "outputs": [
    {
     "output_type": "execute_result",
     "data": {
      "text/plain": [
       "array([nan])"
      ]
     },
     "metadata": {},
     "execution_count": 19
    }
   ],
   "source": [
    "df['report_by_municipality_user'].unique()"
   ]
  },
  {
   "cell_type": "code",
   "execution_count": 20,
   "metadata": {},
   "outputs": [
    {
     "output_type": "execute_result",
     "data": {
      "text/plain": [
       "array([nan,  0.])"
      ]
     },
     "metadata": {},
     "execution_count": 20
    }
   ],
   "source": [
    "df['n_thumbs_up'].unique()"
   ]
  },
  {
   "cell_type": "code",
   "execution_count": 21,
   "metadata": {},
   "outputs": [],
   "source": [
    "df.drop(['report_by_municipality_user','n_thumbs_up','report_description','longitude','latitude','s2id_15','subtype'], axis=1, inplace=True)"
   ]
  },
  {
   "cell_type": "code",
   "execution_count": 22,
   "metadata": {},
   "outputs": [
    {
     "output_type": "execute_result",
     "data": {
      "text/plain": [
       "          id     pub_millis s2token_15  road_type               street  \\\n",
       "0  177876895  1603331480000  2e69eeea4          1                  NaN   \n",
       "1  179156987  1604487892000  2e69eb7f4          6  N8 Jalan Raya Bogor   \n",
       "2  181688703  1605666614000  2e6994a84          7                  NaN   \n",
       "3  173055165  1601895721000  2e699ad9c          2   Flyover Tegal Gede   \n",
       "4  173802602  1602464394000  2e69eec0c          2      Tanjakan Kembar   \n",
       "\n",
       "       city  magvar  reliability  report_rating  confidence           type  \n",
       "0     Depok       0            9              0           1    ROAD_CLOSED  \n",
       "1     Depok     170            7              1           1            JAM  \n",
       "2    Bekasi       0            8              0           1    ROAD_CLOSED  \n",
       "3  Cikarang     319           10              5           0  WEATHERHAZARD  \n",
       "4     Depok     310            5              3           0            JAM  "
      ],
      "text/html": "<div>\n<style scoped>\n    .dataframe tbody tr th:only-of-type {\n        vertical-align: middle;\n    }\n\n    .dataframe tbody tr th {\n        vertical-align: top;\n    }\n\n    .dataframe thead th {\n        text-align: right;\n    }\n</style>\n<table border=\"1\" class=\"dataframe\">\n  <thead>\n    <tr style=\"text-align: right;\">\n      <th></th>\n      <th>id</th>\n      <th>pub_millis</th>\n      <th>s2token_15</th>\n      <th>road_type</th>\n      <th>street</th>\n      <th>city</th>\n      <th>magvar</th>\n      <th>reliability</th>\n      <th>report_rating</th>\n      <th>confidence</th>\n      <th>type</th>\n    </tr>\n  </thead>\n  <tbody>\n    <tr>\n      <th>0</th>\n      <td>177876895</td>\n      <td>1603331480000</td>\n      <td>2e69eeea4</td>\n      <td>1</td>\n      <td>NaN</td>\n      <td>Depok</td>\n      <td>0</td>\n      <td>9</td>\n      <td>0</td>\n      <td>1</td>\n      <td>ROAD_CLOSED</td>\n    </tr>\n    <tr>\n      <th>1</th>\n      <td>179156987</td>\n      <td>1604487892000</td>\n      <td>2e69eb7f4</td>\n      <td>6</td>\n      <td>N8 Jalan Raya Bogor</td>\n      <td>Depok</td>\n      <td>170</td>\n      <td>7</td>\n      <td>1</td>\n      <td>1</td>\n      <td>JAM</td>\n    </tr>\n    <tr>\n      <th>2</th>\n      <td>181688703</td>\n      <td>1605666614000</td>\n      <td>2e6994a84</td>\n      <td>7</td>\n      <td>NaN</td>\n      <td>Bekasi</td>\n      <td>0</td>\n      <td>8</td>\n      <td>0</td>\n      <td>1</td>\n      <td>ROAD_CLOSED</td>\n    </tr>\n    <tr>\n      <th>3</th>\n      <td>173055165</td>\n      <td>1601895721000</td>\n      <td>2e699ad9c</td>\n      <td>2</td>\n      <td>Flyover Tegal Gede</td>\n      <td>Cikarang</td>\n      <td>319</td>\n      <td>10</td>\n      <td>5</td>\n      <td>0</td>\n      <td>WEATHERHAZARD</td>\n    </tr>\n    <tr>\n      <th>4</th>\n      <td>173802602</td>\n      <td>1602464394000</td>\n      <td>2e69eec0c</td>\n      <td>2</td>\n      <td>Tanjakan Kembar</td>\n      <td>Depok</td>\n      <td>310</td>\n      <td>5</td>\n      <td>3</td>\n      <td>0</td>\n      <td>JAM</td>\n    </tr>\n  </tbody>\n</table>\n</div>"
     },
     "metadata": {},
     "execution_count": 22
    }
   ],
   "source": [
    "df.head()"
   ]
  },
  {
   "cell_type": "code",
   "execution_count": 23,
   "metadata": {},
   "outputs": [
    {
     "output_type": "execute_result",
     "data": {
      "text/plain": [
       "id                    0\n",
       "pub_millis            0\n",
       "s2token_15            0\n",
       "road_type             0\n",
       "street           987122\n",
       "city                  0\n",
       "magvar                0\n",
       "reliability           0\n",
       "report_rating         0\n",
       "confidence            0\n",
       "type                  0\n",
       "dtype: int64"
      ]
     },
     "metadata": {},
     "execution_count": 23
    }
   ],
   "source": [
    "df.isna().sum()"
   ]
  },
  {
   "cell_type": "code",
   "execution_count": 24,
   "metadata": {},
   "outputs": [],
   "source": [
    "df.dropna(axis=0, inplace=True)"
   ]
  },
  {
   "cell_type": "code",
   "execution_count": 25,
   "metadata": {},
   "outputs": [
    {
     "output_type": "stream",
     "name": "stdout",
     "text": [
      "<class 'pandas.core.frame.DataFrame'>\nInt64Index: 5813540 entries, 1 to 7800661\nData columns (total 11 columns):\n #   Column         Dtype \n---  ------         ----- \n 0   id             int64 \n 1   pub_millis     int64 \n 2   s2token_15     object\n 3   road_type      int64 \n 4   street         object\n 5   city           object\n 6   magvar         int64 \n 7   reliability    int64 \n 8   report_rating  int64 \n 9   confidence     int64 \n 10  type           object\ndtypes: int64(7), object(4)\nmemory usage: 532.2+ MB\n"
     ]
    }
   ],
   "source": [
    "df.info()"
   ]
  },
  {
   "cell_type": "code",
   "execution_count": 26,
   "metadata": {},
   "outputs": [],
   "source": [
    "df.to_csv('alerts_pre.csv', index=False)"
   ]
  },
  {
   "cell_type": "code",
   "execution_count": null,
   "metadata": {},
   "outputs": [],
   "source": []
  }
 ]
}