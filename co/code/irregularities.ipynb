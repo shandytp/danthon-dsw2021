{
 "metadata": {
  "language_info": {
   "codemirror_mode": {
    "name": "ipython",
    "version": 3
   },
   "file_extension": ".py",
   "mimetype": "text/x-python",
   "name": "python",
   "nbconvert_exporter": "python",
   "pygments_lexer": "ipython3",
   "version": "3.8.7-final"
  },
  "orig_nbformat": 2,
  "kernelspec": {
   "name": "python3",
   "display_name": "Python 3.8.7 64-bit ('env')",
   "metadata": {
    "interpreter": {
     "hash": "f212e41c9f936e46493a95785767a0cb6f3d5440bf40e28b2520b6385c786f38"
    }
   }
  }
 },
 "nbformat": 4,
 "nbformat_minor": 2,
 "cells": [
  {
   "cell_type": "code",
   "execution_count": 1,
   "metadata": {},
   "outputs": [],
   "source": [
    "import pandas as pd\n",
    "import numpy as np\n",
    "import matplotlib.pyplot as plt\n",
    "import seaborn as sns\n",
    "\n",
    "%matplotlib inline"
   ]
  },
  {
   "cell_type": "code",
   "execution_count": 2,
   "metadata": {},
   "outputs": [],
   "source": [
    "df = pd.read_csv('danthon2021/irregularities.csv')"
   ]
  },
  {
   "cell_type": "code",
   "execution_count": 4,
   "metadata": {},
   "outputs": [
    {
     "output_type": "stream",
     "name": "stdout",
     "text": [
      "<class 'pandas.core.frame.DataFrame'>\nRangeIndex: 352609 entries, 0 to 352608\nData columns (total 21 columns):\n #   Column                 Non-Null Count   Dtype  \n---  ------                 --------------   -----  \n 0   id                     352609 non-null  int64  \n 1   detection_date_millis  352609 non-null  int64  \n 2   update_date_millis     352609 non-null  int64  \n 3   street                 349773 non-null  object \n 4   city                   352609 non-null  object \n 5   is_highway             352609 non-null  object \n 6   line                   352609 non-null  object \n 7   s2id_center            352609 non-null  int64  \n 8   s2token_center         352609 non-null  object \n 9   speed                  352609 non-null  float64\n 10  regular_speed          352609 non-null  float64\n 11  delay_seconds          352609 non-null  int64  \n 12  seconds                352609 non-null  int64  \n 13  length                 352609 non-null  int64  \n 14  trend                  352609 non-null  int64  \n 15  type                   352609 non-null  object \n 16  severity               352609 non-null  int64  \n 17  jam_level              352609 non-null  int64  \n 18  drivers_count          352609 non-null  int64  \n 19  alerts_count           352609 non-null  int64  \n 20  n_thumbs_up            352609 non-null  int64  \ndtypes: float64(2), int64(13), object(6)\nmemory usage: 56.5+ MB\n"
     ]
    }
   ],
   "source": [
    "df.info()"
   ]
  },
  {
   "cell_type": "code",
   "execution_count": 15,
   "metadata": {},
   "outputs": [
    {
     "output_type": "execute_result",
     "data": {
      "text/plain": [
       "         id  detection_date_millis  update_date_millis  \\\n",
       "0  12868069          1604733149024       1604735467276   \n",
       "1  12420463          1599906813144       1599909295834   \n",
       "2  12497533          1601728355356       1601734996933   \n",
       "3  12536831          1602312860279       1602315706305   \n",
       "4  12327151          1598956623240       1598957378934   \n",
       "\n",
       "                   street            city is_highway  \\\n",
       "0       Jatiwaringin Raya          Bekasi          t   \n",
       "1           Putri Tunggal           Depok          f   \n",
       "2          Ir Haji Juanda         Bandung          f   \n",
       "3      KH Muchtar Tabrani          Bekasi          f   \n",
       "4  N1 Pangeran Diponegoro  Tambun Selatan          t   \n",
       "\n",
       "                                                line          s2id_center  \\\n",
       "0  {\"line\": [{\"x\": 106.91014, \"y\": -6.258107}, {\"...  3344471185277583360   \n",
       "1  {\"line\": [{\"x\": 106.887821, \"y\": -6.377016}, {...  3344462996922433536   \n",
       "2  {\"line\": [{\"x\": 107.618629, \"y\": -6.87556}, {\"...  3344176694402482176   \n",
       "3  {\"line\": [{\"x\": 107.002934, \"y\": -6.216088}, {...  3344358143885836288   \n",
       "4  {\"line\": [{\"x\": 107.035652, \"y\": -6.255471}, {...  3344360723013697536   \n",
       "\n",
       "  s2token_center  speed  ...  delay_seconds  seconds  length  trend   type  \\\n",
       "0      2e69f2d2c  13.03  ...            299      432    1566      0  Small   \n",
       "1      2e69eb604   6.56  ...            399      539     984      0  Small   \n",
       "2      2e68e6fc4   3.36  ...           1185     1294    1212      1  Large   \n",
       "3      2e698c034   4.36  ...            467      543     659     -1  Small   \n",
       "4      2e698e5bc   4.74  ...            423      474     625      0  Small   \n",
       "\n",
       "  severity  jam_level  drivers_count  alerts_count  n_thumbs_up  \n",
       "0        5          3             13             0            0  \n",
       "1        5          3              5             0            0  \n",
       "2        5          4             21             2            0  \n",
       "3        5          4              3             0            0  \n",
       "4        5          4             11             0            0  \n",
       "\n",
       "[5 rows x 21 columns]"
      ],
      "text/html": "<div>\n<style scoped>\n    .dataframe tbody tr th:only-of-type {\n        vertical-align: middle;\n    }\n\n    .dataframe tbody tr th {\n        vertical-align: top;\n    }\n\n    .dataframe thead th {\n        text-align: right;\n    }\n</style>\n<table border=\"1\" class=\"dataframe\">\n  <thead>\n    <tr style=\"text-align: right;\">\n      <th></th>\n      <th>id</th>\n      <th>detection_date_millis</th>\n      <th>update_date_millis</th>\n      <th>street</th>\n      <th>city</th>\n      <th>is_highway</th>\n      <th>line</th>\n      <th>s2id_center</th>\n      <th>s2token_center</th>\n      <th>speed</th>\n      <th>...</th>\n      <th>delay_seconds</th>\n      <th>seconds</th>\n      <th>length</th>\n      <th>trend</th>\n      <th>type</th>\n      <th>severity</th>\n      <th>jam_level</th>\n      <th>drivers_count</th>\n      <th>alerts_count</th>\n      <th>n_thumbs_up</th>\n    </tr>\n  </thead>\n  <tbody>\n    <tr>\n      <th>0</th>\n      <td>12868069</td>\n      <td>1604733149024</td>\n      <td>1604735467276</td>\n      <td>Jatiwaringin Raya</td>\n      <td>Bekasi</td>\n      <td>t</td>\n      <td>{\"line\": [{\"x\": 106.91014, \"y\": -6.258107}, {\"...</td>\n      <td>3344471185277583360</td>\n      <td>2e69f2d2c</td>\n      <td>13.03</td>\n      <td>...</td>\n      <td>299</td>\n      <td>432</td>\n      <td>1566</td>\n      <td>0</td>\n      <td>Small</td>\n      <td>5</td>\n      <td>3</td>\n      <td>13</td>\n      <td>0</td>\n      <td>0</td>\n    </tr>\n    <tr>\n      <th>1</th>\n      <td>12420463</td>\n      <td>1599906813144</td>\n      <td>1599909295834</td>\n      <td>Putri Tunggal</td>\n      <td>Depok</td>\n      <td>f</td>\n      <td>{\"line\": [{\"x\": 106.887821, \"y\": -6.377016}, {...</td>\n      <td>3344462996922433536</td>\n      <td>2e69eb604</td>\n      <td>6.56</td>\n      <td>...</td>\n      <td>399</td>\n      <td>539</td>\n      <td>984</td>\n      <td>0</td>\n      <td>Small</td>\n      <td>5</td>\n      <td>3</td>\n      <td>5</td>\n      <td>0</td>\n      <td>0</td>\n    </tr>\n    <tr>\n      <th>2</th>\n      <td>12497533</td>\n      <td>1601728355356</td>\n      <td>1601734996933</td>\n      <td>Ir Haji Juanda</td>\n      <td>Bandung</td>\n      <td>f</td>\n      <td>{\"line\": [{\"x\": 107.618629, \"y\": -6.87556}, {\"...</td>\n      <td>3344176694402482176</td>\n      <td>2e68e6fc4</td>\n      <td>3.36</td>\n      <td>...</td>\n      <td>1185</td>\n      <td>1294</td>\n      <td>1212</td>\n      <td>1</td>\n      <td>Large</td>\n      <td>5</td>\n      <td>4</td>\n      <td>21</td>\n      <td>2</td>\n      <td>0</td>\n    </tr>\n    <tr>\n      <th>3</th>\n      <td>12536831</td>\n      <td>1602312860279</td>\n      <td>1602315706305</td>\n      <td>KH Muchtar Tabrani</td>\n      <td>Bekasi</td>\n      <td>f</td>\n      <td>{\"line\": [{\"x\": 107.002934, \"y\": -6.216088}, {...</td>\n      <td>3344358143885836288</td>\n      <td>2e698c034</td>\n      <td>4.36</td>\n      <td>...</td>\n      <td>467</td>\n      <td>543</td>\n      <td>659</td>\n      <td>-1</td>\n      <td>Small</td>\n      <td>5</td>\n      <td>4</td>\n      <td>3</td>\n      <td>0</td>\n      <td>0</td>\n    </tr>\n    <tr>\n      <th>4</th>\n      <td>12327151</td>\n      <td>1598956623240</td>\n      <td>1598957378934</td>\n      <td>N1 Pangeran Diponegoro</td>\n      <td>Tambun Selatan</td>\n      <td>t</td>\n      <td>{\"line\": [{\"x\": 107.035652, \"y\": -6.255471}, {...</td>\n      <td>3344360723013697536</td>\n      <td>2e698e5bc</td>\n      <td>4.74</td>\n      <td>...</td>\n      <td>423</td>\n      <td>474</td>\n      <td>625</td>\n      <td>0</td>\n      <td>Small</td>\n      <td>5</td>\n      <td>4</td>\n      <td>11</td>\n      <td>0</td>\n      <td>0</td>\n    </tr>\n  </tbody>\n</table>\n<p>5 rows × 21 columns</p>\n</div>"
     },
     "metadata": {},
     "execution_count": 15
    }
   ],
   "source": [
    "df.head()"
   ]
  },
  {
   "cell_type": "code",
   "execution_count": 9,
   "metadata": {},
   "outputs": [
    {
     "output_type": "execute_result",
     "data": {
      "text/plain": [
       "100000"
      ]
     },
     "metadata": {},
     "execution_count": 9
    }
   ],
   "source": [
    "df.duplicated().sum()"
   ]
  },
  {
   "cell_type": "code",
   "execution_count": 10,
   "metadata": {},
   "outputs": [],
   "source": [
    "df.drop_duplicates(inplace=True)"
   ]
  },
  {
   "cell_type": "code",
   "execution_count": 19,
   "metadata": {},
   "outputs": [
    {
     "output_type": "execute_result",
     "data": {
      "text/plain": [
       "id                          0\n",
       "detection_date_millis       0\n",
       "update_date_millis          0\n",
       "street                   2038\n",
       "city                        0\n",
       "is_highway                  0\n",
       "line                        0\n",
       "s2id_center                 0\n",
       "s2token_center              0\n",
       "speed                       0\n",
       "regular_speed               0\n",
       "delay_seconds               0\n",
       "seconds                     0\n",
       "length                      0\n",
       "trend                       0\n",
       "type                        0\n",
       "severity                    0\n",
       "jam_level                   0\n",
       "drivers_count               0\n",
       "alerts_count                0\n",
       "n_thumbs_up                 0\n",
       "dtype: int64"
      ]
     },
     "metadata": {},
     "execution_count": 19
    }
   ],
   "source": [
    "df.isna().sum()"
   ]
  },
  {
   "cell_type": "code",
   "execution_count": null,
   "metadata": {},
   "outputs": [],
   "source": []
  }
 ]
}