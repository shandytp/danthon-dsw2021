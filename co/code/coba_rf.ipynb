{
 "metadata": {
  "language_info": {
   "codemirror_mode": {
    "name": "ipython",
    "version": 3
   },
   "file_extension": ".py",
   "mimetype": "text/x-python",
   "name": "python",
   "nbconvert_exporter": "python",
   "pygments_lexer": "ipython3",
   "version": "3.8.7-final"
  },
  "orig_nbformat": 2,
  "kernelspec": {
   "name": "python3",
   "display_name": "Python 3.8.7 64-bit ('env': venv)",
   "metadata": {
    "interpreter": {
     "hash": "2775594003c80662b1b37a349716933d56ed8306b2759a3f039c141e74826f5c"
    }
   }
  }
 },
 "nbformat": 4,
 "nbformat_minor": 2,
 "cells": [
  {
   "cell_type": "code",
   "execution_count": 4,
   "metadata": {},
   "outputs": [],
   "source": [
    "import pandas as pd\n",
    "import numpy as np\n",
    "import matplotlib.pyplot as plt\n",
    "import seaborn as sns\n",
    "\n",
    "%matplotlib inline"
   ]
  },
  {
   "cell_type": "code",
   "execution_count": 5,
   "metadata": {},
   "outputs": [],
   "source": [
    "data = pd.read_csv('D:/Sinau/danthon-dsw2021/co/data_pre/data_train_pre.csv')"
   ]
  },
  {
   "cell_type": "code",
   "execution_count": 6,
   "metadata": {},
   "outputs": [
    {
     "output_type": "execute_result",
     "data": {
      "text/plain": [
       "                       Ids  Labels      token  year  month  date  hour\n",
       "0  2e69e9384_2020-10-06_13    True  2e69e9384  2020     10     6    13\n",
       "1  2e6992c7c_2020-10-02_17    True  2e6992c7c  2020     10     2    17\n",
       "2  2e69ef474_2020-09-13_19    True  2e69ef474  2020      9    13    19\n",
       "3  2e69c5fd4_2020-10-10_15    True  2e69c5fd4  2020     10    10    15\n",
       "4  2e6992134_2020-09-12_11    True  2e6992134  2020      9    12    11"
      ],
      "text/html": "<div>\n<style scoped>\n    .dataframe tbody tr th:only-of-type {\n        vertical-align: middle;\n    }\n\n    .dataframe tbody tr th {\n        vertical-align: top;\n    }\n\n    .dataframe thead th {\n        text-align: right;\n    }\n</style>\n<table border=\"1\" class=\"dataframe\">\n  <thead>\n    <tr style=\"text-align: right;\">\n      <th></th>\n      <th>Ids</th>\n      <th>Labels</th>\n      <th>token</th>\n      <th>year</th>\n      <th>month</th>\n      <th>date</th>\n      <th>hour</th>\n    </tr>\n  </thead>\n  <tbody>\n    <tr>\n      <th>0</th>\n      <td>2e69e9384_2020-10-06_13</td>\n      <td>True</td>\n      <td>2e69e9384</td>\n      <td>2020</td>\n      <td>10</td>\n      <td>6</td>\n      <td>13</td>\n    </tr>\n    <tr>\n      <th>1</th>\n      <td>2e6992c7c_2020-10-02_17</td>\n      <td>True</td>\n      <td>2e6992c7c</td>\n      <td>2020</td>\n      <td>10</td>\n      <td>2</td>\n      <td>17</td>\n    </tr>\n    <tr>\n      <th>2</th>\n      <td>2e69ef474_2020-09-13_19</td>\n      <td>True</td>\n      <td>2e69ef474</td>\n      <td>2020</td>\n      <td>9</td>\n      <td>13</td>\n      <td>19</td>\n    </tr>\n    <tr>\n      <th>3</th>\n      <td>2e69c5fd4_2020-10-10_15</td>\n      <td>True</td>\n      <td>2e69c5fd4</td>\n      <td>2020</td>\n      <td>10</td>\n      <td>10</td>\n      <td>15</td>\n    </tr>\n    <tr>\n      <th>4</th>\n      <td>2e6992134_2020-09-12_11</td>\n      <td>True</td>\n      <td>2e6992134</td>\n      <td>2020</td>\n      <td>9</td>\n      <td>12</td>\n      <td>11</td>\n    </tr>\n  </tbody>\n</table>\n</div>"
     },
     "metadata": {},
     "execution_count": 6
    }
   ],
   "source": [
    "data.head()"
   ]
  },
  {
   "cell_type": "code",
   "execution_count": 16,
   "metadata": {},
   "outputs": [],
   "source": [
    "from sklearn.preprocessing import LabelEncoder"
   ]
  },
  {
   "cell_type": "code",
   "execution_count": 17,
   "metadata": {},
   "outputs": [],
   "source": [
    "le = LabelEncoder()"
   ]
  },
  {
   "cell_type": "code",
   "execution_count": 22,
   "metadata": {},
   "outputs": [],
   "source": [
    "data['tok'] = le.fit_transform(data['token'])"
   ]
  },
  {
   "cell_type": "code",
   "execution_count": 23,
   "metadata": {},
   "outputs": [
    {
     "output_type": "execute_result",
     "data": {
      "text/plain": [
       "                           Ids  Labels      token  year  month  date  hour  \\\n",
       "0      2e69e9384_2020-10-06_13    True  2e69e9384  2020     10     6    13   \n",
       "1      2e6992c7c_2020-10-02_17    True  2e6992c7c  2020     10     2    17   \n",
       "2      2e69ef474_2020-09-13_19    True  2e69ef474  2020      9    13    19   \n",
       "3      2e69c5fd4_2020-10-10_15    True  2e69c5fd4  2020     10    10    15   \n",
       "4      2e6992134_2020-09-12_11    True  2e6992134  2020      9    12    11   \n",
       "...                        ...     ...        ...   ...    ...   ...   ...   \n",
       "71331  2e69eea5c_2020-11-09_10   False  2e69eea5c  2020     11     9    10   \n",
       "71332  2e69c5944_2020-10-27_12    True  2e69c5944  2020     10    27    12   \n",
       "71333  2e69f2cd4_2020-11-07_14    True  2e69f2cd4  2020     11     7    14   \n",
       "71334   2e68e64e4_2020-09-23_9   False  2e68e64e4  2020      9    23     9   \n",
       "71335  2e68e6084_2020-10-18_12   False  2e68e6084  2020     10    18    12   \n",
       "\n",
       "        tok  \n",
       "0      3800  \n",
       "1      2682  \n",
       "2      4494  \n",
       "3      3531  \n",
       "4      2528  \n",
       "...     ...  \n",
       "71331  4382  \n",
       "71332  3403  \n",
       "71333  4520  \n",
       "71334   371  \n",
       "71335   247  \n",
       "\n",
       "[71336 rows x 8 columns]"
      ],
      "text/html": "<div>\n<style scoped>\n    .dataframe tbody tr th:only-of-type {\n        vertical-align: middle;\n    }\n\n    .dataframe tbody tr th {\n        vertical-align: top;\n    }\n\n    .dataframe thead th {\n        text-align: right;\n    }\n</style>\n<table border=\"1\" class=\"dataframe\">\n  <thead>\n    <tr style=\"text-align: right;\">\n      <th></th>\n      <th>Ids</th>\n      <th>Labels</th>\n      <th>token</th>\n      <th>year</th>\n      <th>month</th>\n      <th>date</th>\n      <th>hour</th>\n      <th>tok</th>\n    </tr>\n  </thead>\n  <tbody>\n    <tr>\n      <th>0</th>\n      <td>2e69e9384_2020-10-06_13</td>\n      <td>True</td>\n      <td>2e69e9384</td>\n      <td>2020</td>\n      <td>10</td>\n      <td>6</td>\n      <td>13</td>\n      <td>3800</td>\n    </tr>\n    <tr>\n      <th>1</th>\n      <td>2e6992c7c_2020-10-02_17</td>\n      <td>True</td>\n      <td>2e6992c7c</td>\n      <td>2020</td>\n      <td>10</td>\n      <td>2</td>\n      <td>17</td>\n      <td>2682</td>\n    </tr>\n    <tr>\n      <th>2</th>\n      <td>2e69ef474_2020-09-13_19</td>\n      <td>True</td>\n      <td>2e69ef474</td>\n      <td>2020</td>\n      <td>9</td>\n      <td>13</td>\n      <td>19</td>\n      <td>4494</td>\n    </tr>\n    <tr>\n      <th>3</th>\n      <td>2e69c5fd4_2020-10-10_15</td>\n      <td>True</td>\n      <td>2e69c5fd4</td>\n      <td>2020</td>\n      <td>10</td>\n      <td>10</td>\n      <td>15</td>\n      <td>3531</td>\n    </tr>\n    <tr>\n      <th>4</th>\n      <td>2e6992134_2020-09-12_11</td>\n      <td>True</td>\n      <td>2e6992134</td>\n      <td>2020</td>\n      <td>9</td>\n      <td>12</td>\n      <td>11</td>\n      <td>2528</td>\n    </tr>\n    <tr>\n      <th>...</th>\n      <td>...</td>\n      <td>...</td>\n      <td>...</td>\n      <td>...</td>\n      <td>...</td>\n      <td>...</td>\n      <td>...</td>\n      <td>...</td>\n    </tr>\n    <tr>\n      <th>71331</th>\n      <td>2e69eea5c_2020-11-09_10</td>\n      <td>False</td>\n      <td>2e69eea5c</td>\n      <td>2020</td>\n      <td>11</td>\n      <td>9</td>\n      <td>10</td>\n      <td>4382</td>\n    </tr>\n    <tr>\n      <th>71332</th>\n      <td>2e69c5944_2020-10-27_12</td>\n      <td>True</td>\n      <td>2e69c5944</td>\n      <td>2020</td>\n      <td>10</td>\n      <td>27</td>\n      <td>12</td>\n      <td>3403</td>\n    </tr>\n    <tr>\n      <th>71333</th>\n      <td>2e69f2cd4_2020-11-07_14</td>\n      <td>True</td>\n      <td>2e69f2cd4</td>\n      <td>2020</td>\n      <td>11</td>\n      <td>7</td>\n      <td>14</td>\n      <td>4520</td>\n    </tr>\n    <tr>\n      <th>71334</th>\n      <td>2e68e64e4_2020-09-23_9</td>\n      <td>False</td>\n      <td>2e68e64e4</td>\n      <td>2020</td>\n      <td>9</td>\n      <td>23</td>\n      <td>9</td>\n      <td>371</td>\n    </tr>\n    <tr>\n      <th>71335</th>\n      <td>2e68e6084_2020-10-18_12</td>\n      <td>False</td>\n      <td>2e68e6084</td>\n      <td>2020</td>\n      <td>10</td>\n      <td>18</td>\n      <td>12</td>\n      <td>247</td>\n    </tr>\n  </tbody>\n</table>\n<p>71336 rows × 8 columns</p>\n</div>"
     },
     "metadata": {},
     "execution_count": 23
    }
   ],
   "source": [
    "data"
   ]
  },
  {
   "cell_type": "code",
   "execution_count": 8,
   "metadata": {},
   "outputs": [],
   "source": [
    "from sklearn.ensemble import RandomForestClassifier\n",
    "from sklearn.model_selection import train_test_split"
   ]
  },
  {
   "cell_type": "code",
   "execution_count": 24,
   "metadata": {},
   "outputs": [],
   "source": [
    "X = data[['tok','year','month','date','hour']]\n",
    "y = data['Labels']"
   ]
  },
  {
   "cell_type": "code",
   "execution_count": 25,
   "metadata": {},
   "outputs": [],
   "source": [
    "X_train, X_test, y_train, y_test = train_test_split(X, y, test_size=0.3)"
   ]
  },
  {
   "cell_type": "code",
   "execution_count": 26,
   "metadata": {},
   "outputs": [],
   "source": [
    "clf=RandomForestClassifier(n_estimators=100)"
   ]
  },
  {
   "cell_type": "code",
   "execution_count": 27,
   "metadata": {},
   "outputs": [
    {
     "output_type": "execute_result",
     "data": {
      "text/plain": [
       "RandomForestClassifier()"
      ]
     },
     "metadata": {},
     "execution_count": 27
    }
   ],
   "source": [
    "clf.fit(X_train,y_train)"
   ]
  },
  {
   "cell_type": "code",
   "execution_count": 28,
   "metadata": {},
   "outputs": [],
   "source": [
    "y_pred=clf.predict(X_test)"
   ]
  },
  {
   "cell_type": "code",
   "execution_count": 29,
   "metadata": {},
   "outputs": [],
   "source": [
    "from sklearn import metrics"
   ]
  },
  {
   "cell_type": "code",
   "execution_count": 30,
   "metadata": {},
   "outputs": [
    {
     "output_type": "stream",
     "name": "stdout",
     "text": [
      "Accuracy: 0.6842203635344143\n"
     ]
    }
   ],
   "source": [
    "print(\"Accuracy:\",metrics.accuracy_score(y_test, y_pred))"
   ]
  },
  {
   "cell_type": "code",
   "execution_count": null,
   "metadata": {},
   "outputs": [],
   "source": []
  }
 ]
}