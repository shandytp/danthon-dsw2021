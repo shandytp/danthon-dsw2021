{
 "metadata": {
  "language_info": {
   "codemirror_mode": {
    "name": "ipython",
    "version": 3
   },
   "file_extension": ".py",
   "mimetype": "text/x-python",
   "name": "python",
   "nbconvert_exporter": "python",
   "pygments_lexer": "ipython3",
   "version": "3.8.7-final"
  },
  "orig_nbformat": 2,
  "kernelspec": {
   "name": "python3",
   "display_name": "Python 3.8.7 64-bit ('env')",
   "metadata": {
    "interpreter": {
     "hash": "2775594003c80662b1b37a349716933d56ed8306b2759a3f039c141e74826f5c"
    }
   }
  }
 },
 "nbformat": 4,
 "nbformat_minor": 2,
 "cells": [
  {
   "cell_type": "code",
   "execution_count": 1,
   "metadata": {},
   "outputs": [],
   "source": [
    "import pandas as pd\n",
    "import numpy as np\n",
    "import matplotlib.pyplot as plt\n",
    "import seaborn as sns\n",
    "\n",
    "%matplotlib inline"
   ]
  },
  {
   "cell_type": "code",
   "execution_count": 2,
   "metadata": {},
   "outputs": [],
   "source": [
    "data = pd.read_csv('D:/Sinau/danthon-dsw2021/co/data_pre/data_train_pre.csv')"
   ]
  },
  {
   "cell_type": "code",
   "execution_count": 3,
   "metadata": {},
   "outputs": [
    {
     "output_type": "execute_result",
     "data": {
      "text/plain": [
       "                       Ids  Labels      token  year  month  date  hour\n",
       "0  2e69e9384_2020-10-06_13    True  2e69e9384  2020     10     6    13\n",
       "1  2e6992c7c_2020-10-02_17    True  2e6992c7c  2020     10     2    17\n",
       "2  2e69ef474_2020-09-13_19    True  2e69ef474  2020      9    13    19\n",
       "3  2e69c5fd4_2020-10-10_15    True  2e69c5fd4  2020     10    10    15\n",
       "4  2e6992134_2020-09-12_11    True  2e6992134  2020      9    12    11"
      ],
      "text/html": "<div>\n<style scoped>\n    .dataframe tbody tr th:only-of-type {\n        vertical-align: middle;\n    }\n\n    .dataframe tbody tr th {\n        vertical-align: top;\n    }\n\n    .dataframe thead th {\n        text-align: right;\n    }\n</style>\n<table border=\"1\" class=\"dataframe\">\n  <thead>\n    <tr style=\"text-align: right;\">\n      <th></th>\n      <th>Ids</th>\n      <th>Labels</th>\n      <th>token</th>\n      <th>year</th>\n      <th>month</th>\n      <th>date</th>\n      <th>hour</th>\n    </tr>\n  </thead>\n  <tbody>\n    <tr>\n      <th>0</th>\n      <td>2e69e9384_2020-10-06_13</td>\n      <td>True</td>\n      <td>2e69e9384</td>\n      <td>2020</td>\n      <td>10</td>\n      <td>6</td>\n      <td>13</td>\n    </tr>\n    <tr>\n      <th>1</th>\n      <td>2e6992c7c_2020-10-02_17</td>\n      <td>True</td>\n      <td>2e6992c7c</td>\n      <td>2020</td>\n      <td>10</td>\n      <td>2</td>\n      <td>17</td>\n    </tr>\n    <tr>\n      <th>2</th>\n      <td>2e69ef474_2020-09-13_19</td>\n      <td>True</td>\n      <td>2e69ef474</td>\n      <td>2020</td>\n      <td>9</td>\n      <td>13</td>\n      <td>19</td>\n    </tr>\n    <tr>\n      <th>3</th>\n      <td>2e69c5fd4_2020-10-10_15</td>\n      <td>True</td>\n      <td>2e69c5fd4</td>\n      <td>2020</td>\n      <td>10</td>\n      <td>10</td>\n      <td>15</td>\n    </tr>\n    <tr>\n      <th>4</th>\n      <td>2e6992134_2020-09-12_11</td>\n      <td>True</td>\n      <td>2e6992134</td>\n      <td>2020</td>\n      <td>9</td>\n      <td>12</td>\n      <td>11</td>\n    </tr>\n  </tbody>\n</table>\n</div>"
     },
     "metadata": {},
     "execution_count": 3
    }
   ],
   "source": [
    "data.head()"
   ]
  },
  {
   "cell_type": "code",
   "execution_count": 4,
   "metadata": {},
   "outputs": [],
   "source": [
    "from sklearn.preprocessing import LabelEncoder"
   ]
  },
  {
   "cell_type": "code",
   "execution_count": 5,
   "metadata": {},
   "outputs": [],
   "source": [
    "le = LabelEncoder()"
   ]
  },
  {
   "cell_type": "code",
   "execution_count": 6,
   "metadata": {},
   "outputs": [],
   "source": [
    "data['tok'] = le.fit_transform(data['token'])"
   ]
  },
  {
   "cell_type": "code",
   "execution_count": 7,
   "metadata": {},
   "outputs": [
    {
     "output_type": "execute_result",
     "data": {
      "text/plain": [
       "                           Ids  Labels      token  year  month  date  hour  \\\n",
       "0      2e69e9384_2020-10-06_13    True  2e69e9384  2020     10     6    13   \n",
       "1      2e6992c7c_2020-10-02_17    True  2e6992c7c  2020     10     2    17   \n",
       "2      2e69ef474_2020-09-13_19    True  2e69ef474  2020      9    13    19   \n",
       "3      2e69c5fd4_2020-10-10_15    True  2e69c5fd4  2020     10    10    15   \n",
       "4      2e6992134_2020-09-12_11    True  2e6992134  2020      9    12    11   \n",
       "...                        ...     ...        ...   ...    ...   ...   ...   \n",
       "71331  2e69eea5c_2020-11-09_10   False  2e69eea5c  2020     11     9    10   \n",
       "71332  2e69c5944_2020-10-27_12    True  2e69c5944  2020     10    27    12   \n",
       "71333  2e69f2cd4_2020-11-07_14    True  2e69f2cd4  2020     11     7    14   \n",
       "71334   2e68e64e4_2020-09-23_9   False  2e68e64e4  2020      9    23     9   \n",
       "71335  2e68e6084_2020-10-18_12   False  2e68e6084  2020     10    18    12   \n",
       "\n",
       "        tok  \n",
       "0      3800  \n",
       "1      2682  \n",
       "2      4494  \n",
       "3      3531  \n",
       "4      2528  \n",
       "...     ...  \n",
       "71331  4382  \n",
       "71332  3403  \n",
       "71333  4520  \n",
       "71334   371  \n",
       "71335   247  \n",
       "\n",
       "[71336 rows x 8 columns]"
      ],
      "text/html": "<div>\n<style scoped>\n    .dataframe tbody tr th:only-of-type {\n        vertical-align: middle;\n    }\n\n    .dataframe tbody tr th {\n        vertical-align: top;\n    }\n\n    .dataframe thead th {\n        text-align: right;\n    }\n</style>\n<table border=\"1\" class=\"dataframe\">\n  <thead>\n    <tr style=\"text-align: right;\">\n      <th></th>\n      <th>Ids</th>\n      <th>Labels</th>\n      <th>token</th>\n      <th>year</th>\n      <th>month</th>\n      <th>date</th>\n      <th>hour</th>\n      <th>tok</th>\n    </tr>\n  </thead>\n  <tbody>\n    <tr>\n      <th>0</th>\n      <td>2e69e9384_2020-10-06_13</td>\n      <td>True</td>\n      <td>2e69e9384</td>\n      <td>2020</td>\n      <td>10</td>\n      <td>6</td>\n      <td>13</td>\n      <td>3800</td>\n    </tr>\n    <tr>\n      <th>1</th>\n      <td>2e6992c7c_2020-10-02_17</td>\n      <td>True</td>\n      <td>2e6992c7c</td>\n      <td>2020</td>\n      <td>10</td>\n      <td>2</td>\n      <td>17</td>\n      <td>2682</td>\n    </tr>\n    <tr>\n      <th>2</th>\n      <td>2e69ef474_2020-09-13_19</td>\n      <td>True</td>\n      <td>2e69ef474</td>\n      <td>2020</td>\n      <td>9</td>\n      <td>13</td>\n      <td>19</td>\n      <td>4494</td>\n    </tr>\n    <tr>\n      <th>3</th>\n      <td>2e69c5fd4_2020-10-10_15</td>\n      <td>True</td>\n      <td>2e69c5fd4</td>\n      <td>2020</td>\n      <td>10</td>\n      <td>10</td>\n      <td>15</td>\n      <td>3531</td>\n    </tr>\n    <tr>\n      <th>4</th>\n      <td>2e6992134_2020-09-12_11</td>\n      <td>True</td>\n      <td>2e6992134</td>\n      <td>2020</td>\n      <td>9</td>\n      <td>12</td>\n      <td>11</td>\n      <td>2528</td>\n    </tr>\n    <tr>\n      <th>...</th>\n      <td>...</td>\n      <td>...</td>\n      <td>...</td>\n      <td>...</td>\n      <td>...</td>\n      <td>...</td>\n      <td>...</td>\n      <td>...</td>\n    </tr>\n    <tr>\n      <th>71331</th>\n      <td>2e69eea5c_2020-11-09_10</td>\n      <td>False</td>\n      <td>2e69eea5c</td>\n      <td>2020</td>\n      <td>11</td>\n      <td>9</td>\n      <td>10</td>\n      <td>4382</td>\n    </tr>\n    <tr>\n      <th>71332</th>\n      <td>2e69c5944_2020-10-27_12</td>\n      <td>True</td>\n      <td>2e69c5944</td>\n      <td>2020</td>\n      <td>10</td>\n      <td>27</td>\n      <td>12</td>\n      <td>3403</td>\n    </tr>\n    <tr>\n      <th>71333</th>\n      <td>2e69f2cd4_2020-11-07_14</td>\n      <td>True</td>\n      <td>2e69f2cd4</td>\n      <td>2020</td>\n      <td>11</td>\n      <td>7</td>\n      <td>14</td>\n      <td>4520</td>\n    </tr>\n    <tr>\n      <th>71334</th>\n      <td>2e68e64e4_2020-09-23_9</td>\n      <td>False</td>\n      <td>2e68e64e4</td>\n      <td>2020</td>\n      <td>9</td>\n      <td>23</td>\n      <td>9</td>\n      <td>371</td>\n    </tr>\n    <tr>\n      <th>71335</th>\n      <td>2e68e6084_2020-10-18_12</td>\n      <td>False</td>\n      <td>2e68e6084</td>\n      <td>2020</td>\n      <td>10</td>\n      <td>18</td>\n      <td>12</td>\n      <td>247</td>\n    </tr>\n  </tbody>\n</table>\n<p>71336 rows × 8 columns</p>\n</div>"
     },
     "metadata": {},
     "execution_count": 7
    }
   ],
   "source": [
    "data"
   ]
  },
  {
   "cell_type": "code",
   "execution_count": 8,
   "metadata": {},
   "outputs": [],
   "source": [
    "from sklearn.ensemble import RandomForestClassifier\n",
    "from sklearn.model_selection import train_test_split\n",
    "from sklearn import svm"
   ]
  },
  {
   "cell_type": "code",
   "execution_count": 9,
   "metadata": {},
   "outputs": [],
   "source": [
    "X = data[['tok','year','month','date','hour']]\n",
    "y = data['Labels']"
   ]
  },
  {
   "cell_type": "code",
   "execution_count": 10,
   "metadata": {},
   "outputs": [],
   "source": [
    "X_train, X_test, y_train, y_test = train_test_split(X, y, test_size=0.3)"
   ]
  },
  {
   "cell_type": "code",
   "execution_count": 24,
   "metadata": {},
   "outputs": [],
   "source": [
    "clf=RandomForestClassifier(n_estimators=100)"
   ]
  },
  {
   "cell_type": "code",
   "execution_count": 25,
   "metadata": {},
   "outputs": [
    {
     "output_type": "execute_result",
     "data": {
      "text/plain": [
       "RandomForestClassifier()"
      ]
     },
     "metadata": {},
     "execution_count": 25
    }
   ],
   "source": [
    "clf.fit(X_train,y_train)"
   ]
  },
  {
   "cell_type": "code",
   "execution_count": 26,
   "metadata": {},
   "outputs": [],
   "source": [
    "y_pred=clf.predict(X_test)"
   ]
  },
  {
   "cell_type": "code",
   "execution_count": 27,
   "metadata": {},
   "outputs": [],
   "source": [
    "from sklearn import metrics"
   ]
  },
  {
   "cell_type": "code",
   "execution_count": 28,
   "metadata": {},
   "outputs": [
    {
     "output_type": "stream",
     "name": "stdout",
     "text": [
      "Accuracy: 0.68538853324611\n"
     ]
    }
   ],
   "source": [
    "print(\"Accuracy:\",metrics.accuracy_score(y_test, y_pred))"
   ]
  },
  {
   "cell_type": "code",
   "execution_count": 29,
   "metadata": {},
   "outputs": [
    {
     "output_type": "stream",
     "name": "stdout",
     "text": [
      "              precision    recall  f1-score   support\n\n       False       0.53      0.47      0.50      7164\n        True       0.75      0.80      0.77     14237\n\n    accuracy                           0.69     21401\n   macro avg       0.64      0.63      0.63     21401\nweighted avg       0.68      0.69      0.68     21401\n\n"
     ]
    }
   ],
   "source": [
    "print(metrics.classification_report(y_test, y_pred))"
   ]
  },
  {
   "cell_type": "code",
   "execution_count": null,
   "metadata": {},
   "outputs": [],
   "source": []
  },
  {
   "cell_type": "code",
   "execution_count": null,
   "metadata": {},
   "outputs": [],
   "source": [
    "df_ohe = pd.get_dummies(data.token, prefix='token')"
   ]
  },
  {
   "cell_type": "code",
   "execution_count": null,
   "metadata": {},
   "outputs": [],
   "source": [
    "df_ohe"
   ]
  },
  {
   "cell_type": "code",
   "execution_count": null,
   "metadata": {},
   "outputs": [],
   "source": [
    "data_b = pd.concat([data, df_ohe], axis=1)"
   ]
  },
  {
   "cell_type": "code",
   "execution_count": null,
   "metadata": {},
   "outputs": [],
   "source": [
    "data_b"
   ]
  },
  {
   "cell_type": "code",
   "execution_count": null,
   "metadata": {},
   "outputs": [],
   "source": [
    "X = data_b.drop(['Ids','Labels','token','tok'], axis=1)\n",
    "y = data['Labels']"
   ]
  },
  {
   "cell_type": "code",
   "execution_count": null,
   "metadata": {},
   "outputs": [],
   "source": []
  },
  {
   "cell_type": "code",
   "execution_count": null,
   "metadata": {},
   "outputs": [],
   "source": [
    "X_train, X_test, y_train, y_test = train_test_split(X, y, test_size=0.3)"
   ]
  },
  {
   "cell_type": "code",
   "execution_count": null,
   "metadata": {},
   "outputs": [],
   "source": [
    "clf2=RandomForestClassifier(n_estimators=100)"
   ]
  },
  {
   "cell_type": "code",
   "execution_count": 52,
   "metadata": {},
   "outputs": [],
   "source": [
    "svmm = svm.SVC()"
   ]
  },
  {
   "cell_type": "code",
   "execution_count": 53,
   "metadata": {},
   "outputs": [
    {
     "output_type": "error",
     "ename": "KeyboardInterrupt",
     "evalue": "",
     "traceback": [
      "\u001b[1;31m---------------------------------------------------------------------------\u001b[0m",
      "\u001b[1;31mKeyboardInterrupt\u001b[0m                         Traceback (most recent call last)",
      "\u001b[1;32m<ipython-input-53-05c28a6eebab>\u001b[0m in \u001b[0;36m<module>\u001b[1;34m\u001b[0m\n\u001b[1;32m----> 1\u001b[1;33m \u001b[0msvmm\u001b[0m\u001b[1;33m.\u001b[0m\u001b[0mfit\u001b[0m\u001b[1;33m(\u001b[0m\u001b[0mX_train\u001b[0m\u001b[1;33m,\u001b[0m\u001b[0my_train\u001b[0m\u001b[1;33m)\u001b[0m\u001b[1;33m\u001b[0m\u001b[1;33m\u001b[0m\u001b[0m\n\u001b[0m",
      "\u001b[1;32md:\\Sinau\\danthon-dsw2021\\env\\lib\\site-packages\\sklearn\\svm\\_base.py\u001b[0m in \u001b[0;36mfit\u001b[1;34m(self, X, y, sample_weight)\u001b[0m\n\u001b[0;32m    224\u001b[0m \u001b[1;33m\u001b[0m\u001b[0m\n\u001b[0;32m    225\u001b[0m         \u001b[0mseed\u001b[0m \u001b[1;33m=\u001b[0m \u001b[0mrnd\u001b[0m\u001b[1;33m.\u001b[0m\u001b[0mrandint\u001b[0m\u001b[1;33m(\u001b[0m\u001b[0mnp\u001b[0m\u001b[1;33m.\u001b[0m\u001b[0miinfo\u001b[0m\u001b[1;33m(\u001b[0m\u001b[1;34m'i'\u001b[0m\u001b[1;33m)\u001b[0m\u001b[1;33m.\u001b[0m\u001b[0mmax\u001b[0m\u001b[1;33m)\u001b[0m\u001b[1;33m\u001b[0m\u001b[1;33m\u001b[0m\u001b[0m\n\u001b[1;32m--> 226\u001b[1;33m         \u001b[0mfit\u001b[0m\u001b[1;33m(\u001b[0m\u001b[0mX\u001b[0m\u001b[1;33m,\u001b[0m \u001b[0my\u001b[0m\u001b[1;33m,\u001b[0m \u001b[0msample_weight\u001b[0m\u001b[1;33m,\u001b[0m \u001b[0msolver_type\u001b[0m\u001b[1;33m,\u001b[0m \u001b[0mkernel\u001b[0m\u001b[1;33m,\u001b[0m \u001b[0mrandom_seed\u001b[0m\u001b[1;33m=\u001b[0m\u001b[0mseed\u001b[0m\u001b[1;33m)\u001b[0m\u001b[1;33m\u001b[0m\u001b[1;33m\u001b[0m\u001b[0m\n\u001b[0m\u001b[0;32m    227\u001b[0m         \u001b[1;31m# see comment on the other call to np.iinfo in this file\u001b[0m\u001b[1;33m\u001b[0m\u001b[1;33m\u001b[0m\u001b[1;33m\u001b[0m\u001b[0m\n\u001b[0;32m    228\u001b[0m \u001b[1;33m\u001b[0m\u001b[0m\n",
      "\u001b[1;32md:\\Sinau\\danthon-dsw2021\\env\\lib\\site-packages\\sklearn\\svm\\_base.py\u001b[0m in \u001b[0;36m_dense_fit\u001b[1;34m(self, X, y, sample_weight, solver_type, kernel, random_seed)\u001b[0m\n\u001b[0;32m    275\u001b[0m         \u001b[0mself\u001b[0m\u001b[1;33m.\u001b[0m\u001b[0msupport_\u001b[0m\u001b[1;33m,\u001b[0m \u001b[0mself\u001b[0m\u001b[1;33m.\u001b[0m\u001b[0msupport_vectors_\u001b[0m\u001b[1;33m,\u001b[0m \u001b[0mself\u001b[0m\u001b[1;33m.\u001b[0m\u001b[0m_n_support\u001b[0m\u001b[1;33m,\u001b[0m\u001b[0;31m \u001b[0m\u001b[0;31m\\\u001b[0m\u001b[1;33m\u001b[0m\u001b[1;33m\u001b[0m\u001b[0m\n\u001b[0;32m    276\u001b[0m             \u001b[0mself\u001b[0m\u001b[1;33m.\u001b[0m\u001b[0mdual_coef_\u001b[0m\u001b[1;33m,\u001b[0m \u001b[0mself\u001b[0m\u001b[1;33m.\u001b[0m\u001b[0mintercept_\u001b[0m\u001b[1;33m,\u001b[0m \u001b[0mself\u001b[0m\u001b[1;33m.\u001b[0m\u001b[0m_probA\u001b[0m\u001b[1;33m,\u001b[0m\u001b[0;31m \u001b[0m\u001b[0;31m\\\u001b[0m\u001b[1;33m\u001b[0m\u001b[1;33m\u001b[0m\u001b[0m\n\u001b[1;32m--> 277\u001b[1;33m             self._probB, self.fit_status_ = libsvm.fit(\n\u001b[0m\u001b[0;32m    278\u001b[0m                 \u001b[0mX\u001b[0m\u001b[1;33m,\u001b[0m \u001b[0my\u001b[0m\u001b[1;33m,\u001b[0m\u001b[1;33m\u001b[0m\u001b[1;33m\u001b[0m\u001b[0m\n\u001b[0;32m    279\u001b[0m                 \u001b[0msvm_type\u001b[0m\u001b[1;33m=\u001b[0m\u001b[0msolver_type\u001b[0m\u001b[1;33m,\u001b[0m \u001b[0msample_weight\u001b[0m\u001b[1;33m=\u001b[0m\u001b[0msample_weight\u001b[0m\u001b[1;33m,\u001b[0m\u001b[1;33m\u001b[0m\u001b[1;33m\u001b[0m\u001b[0m\n",
      "\u001b[1;31mKeyboardInterrupt\u001b[0m: "
     ]
    }
   ],
   "source": [
    "svmm.fit(X_train,y_train)"
   ]
  },
  {
   "cell_type": "code",
   "execution_count": 29,
   "metadata": {},
   "outputs": [
    {
     "output_type": "execute_result",
     "data": {
      "text/plain": [
       "RandomForestClassifier()"
      ]
     },
     "metadata": {},
     "execution_count": 29
    }
   ],
   "source": [
    "clf2.fit(X_train,y_train)"
   ]
  },
  {
   "cell_type": "code",
   "execution_count": 30,
   "metadata": {},
   "outputs": [],
   "source": [
    "y_pred=clf2.predict(X_test)"
   ]
  },
  {
   "cell_type": "code",
   "execution_count": 31,
   "metadata": {},
   "outputs": [
    {
     "output_type": "stream",
     "name": "stdout",
     "text": [
      "Accuracy: 0.7057146862296154\n"
     ]
    }
   ],
   "source": [
    "print(\"Accuracy:\",metrics.accuracy_score(y_test, y_pred))"
   ]
  },
  {
   "cell_type": "code",
   "execution_count": 40,
   "metadata": {},
   "outputs": [],
   "source": [
    "test = pd.read_csv('D:\\Sinau\\danthon-dsw2021\\co\\data_pre\\data_test_pre.csv')"
   ]
  },
  {
   "cell_type": "code",
   "execution_count": 31,
   "metadata": {},
   "outputs": [
    {
     "output_type": "execute_result",
     "data": {
      "text/plain": [
       "                           Ids      token  year  month  date  hour\n",
       "0      2e6992a84_2020-11-25_18  2e6992a84  2020     11    25    18\n",
       "1      2e68e62f4_2020-11-29_20  2e68e62f4  2020     11    29    20\n",
       "2      2e68e81a4_2020-11-27_10  2e68e81a4  2020     11    27    10\n",
       "3       2e69eec04_2020-11-24_7  2e69eec04  2020     11    24     7\n",
       "4       2e698e4a4_2020-11-27_8  2e698e4a4  2020     11    27     8\n",
       "...                        ...        ...   ...    ...   ...   ...\n",
       "13836   2e68dd414_2020-11-26_5  2e68dd414  2020     11    26     5\n",
       "13837  2e698541c_2020-11-24_22  2e698541c  2020     11    24    22\n",
       "13838  2e69e8e0c_2020-11-24_10  2e69e8e0c  2020     11    24    10\n",
       "13839  2e699a1cc_2020-11-24_18  2e699a1cc  2020     11    24    18\n",
       "13840  2e698d804_2020-11-25_19  2e698d804  2020     11    25    19\n",
       "\n",
       "[13841 rows x 6 columns]"
      ],
      "text/html": "<div>\n<style scoped>\n    .dataframe tbody tr th:only-of-type {\n        vertical-align: middle;\n    }\n\n    .dataframe tbody tr th {\n        vertical-align: top;\n    }\n\n    .dataframe thead th {\n        text-align: right;\n    }\n</style>\n<table border=\"1\" class=\"dataframe\">\n  <thead>\n    <tr style=\"text-align: right;\">\n      <th></th>\n      <th>Ids</th>\n      <th>token</th>\n      <th>year</th>\n      <th>month</th>\n      <th>date</th>\n      <th>hour</th>\n    </tr>\n  </thead>\n  <tbody>\n    <tr>\n      <th>0</th>\n      <td>2e6992a84_2020-11-25_18</td>\n      <td>2e6992a84</td>\n      <td>2020</td>\n      <td>11</td>\n      <td>25</td>\n      <td>18</td>\n    </tr>\n    <tr>\n      <th>1</th>\n      <td>2e68e62f4_2020-11-29_20</td>\n      <td>2e68e62f4</td>\n      <td>2020</td>\n      <td>11</td>\n      <td>29</td>\n      <td>20</td>\n    </tr>\n    <tr>\n      <th>2</th>\n      <td>2e68e81a4_2020-11-27_10</td>\n      <td>2e68e81a4</td>\n      <td>2020</td>\n      <td>11</td>\n      <td>27</td>\n      <td>10</td>\n    </tr>\n    <tr>\n      <th>3</th>\n      <td>2e69eec04_2020-11-24_7</td>\n      <td>2e69eec04</td>\n      <td>2020</td>\n      <td>11</td>\n      <td>24</td>\n      <td>7</td>\n    </tr>\n    <tr>\n      <th>4</th>\n      <td>2e698e4a4_2020-11-27_8</td>\n      <td>2e698e4a4</td>\n      <td>2020</td>\n      <td>11</td>\n      <td>27</td>\n      <td>8</td>\n    </tr>\n    <tr>\n      <th>...</th>\n      <td>...</td>\n      <td>...</td>\n      <td>...</td>\n      <td>...</td>\n      <td>...</td>\n      <td>...</td>\n    </tr>\n    <tr>\n      <th>13836</th>\n      <td>2e68dd414_2020-11-26_5</td>\n      <td>2e68dd414</td>\n      <td>2020</td>\n      <td>11</td>\n      <td>26</td>\n      <td>5</td>\n    </tr>\n    <tr>\n      <th>13837</th>\n      <td>2e698541c_2020-11-24_22</td>\n      <td>2e698541c</td>\n      <td>2020</td>\n      <td>11</td>\n      <td>24</td>\n      <td>22</td>\n    </tr>\n    <tr>\n      <th>13838</th>\n      <td>2e69e8e0c_2020-11-24_10</td>\n      <td>2e69e8e0c</td>\n      <td>2020</td>\n      <td>11</td>\n      <td>24</td>\n      <td>10</td>\n    </tr>\n    <tr>\n      <th>13839</th>\n      <td>2e699a1cc_2020-11-24_18</td>\n      <td>2e699a1cc</td>\n      <td>2020</td>\n      <td>11</td>\n      <td>24</td>\n      <td>18</td>\n    </tr>\n    <tr>\n      <th>13840</th>\n      <td>2e698d804_2020-11-25_19</td>\n      <td>2e698d804</td>\n      <td>2020</td>\n      <td>11</td>\n      <td>25</td>\n      <td>19</td>\n    </tr>\n  </tbody>\n</table>\n<p>13841 rows × 6 columns</p>\n</div>"
     },
     "metadata": {},
     "execution_count": 31
    }
   ],
   "source": [
    "test"
   ]
  },
  {
   "cell_type": "code",
   "execution_count": 32,
   "metadata": {},
   "outputs": [],
   "source": [
    "test['tok'] = le.fit_transform(test['token'])"
   ]
  },
  {
   "cell_type": "code",
   "execution_count": 36,
   "metadata": {},
   "outputs": [],
   "source": [
    "# test_ohe = pd.get_dummies(test.token, prefix='token')"
   ]
  },
  {
   "cell_type": "code",
   "execution_count": 33,
   "metadata": {},
   "outputs": [
    {
     "output_type": "execute_result",
     "data": {
      "text/plain": [
       "                           Ids      token  year  month  date  hour   tok\n",
       "0      2e6992a84_2020-11-25_18  2e6992a84  2020     11    25    18  1240\n",
       "1      2e68e62f4_2020-11-29_20  2e68e62f4  2020     11    29    20   115\n",
       "2      2e68e81a4_2020-11-27_10  2e68e81a4  2020     11    27    10   350\n",
       "3       2e69eec04_2020-11-24_7  2e69eec04  2020     11    24     7  1894\n",
       "4       2e698e4a4_2020-11-27_8  2e698e4a4  2020     11    27     8   956\n",
       "...                        ...        ...   ...    ...   ...   ...   ...\n",
       "13836   2e68dd414_2020-11-26_5  2e68dd414  2020     11    26     5    25\n",
       "13837  2e698541c_2020-11-24_22  2e698541c  2020     11    24    22   582\n",
       "13838  2e69e8e0c_2020-11-24_10  2e69e8e0c  2020     11    24    10  1664\n",
       "13839  2e699a1cc_2020-11-24_18  2e699a1cc  2020     11    24    18  1359\n",
       "13840  2e698d804_2020-11-25_19  2e698d804  2020     11    25    19   865\n",
       "\n",
       "[13841 rows x 7 columns]"
      ],
      "text/html": "<div>\n<style scoped>\n    .dataframe tbody tr th:only-of-type {\n        vertical-align: middle;\n    }\n\n    .dataframe tbody tr th {\n        vertical-align: top;\n    }\n\n    .dataframe thead th {\n        text-align: right;\n    }\n</style>\n<table border=\"1\" class=\"dataframe\">\n  <thead>\n    <tr style=\"text-align: right;\">\n      <th></th>\n      <th>Ids</th>\n      <th>token</th>\n      <th>year</th>\n      <th>month</th>\n      <th>date</th>\n      <th>hour</th>\n      <th>tok</th>\n    </tr>\n  </thead>\n  <tbody>\n    <tr>\n      <th>0</th>\n      <td>2e6992a84_2020-11-25_18</td>\n      <td>2e6992a84</td>\n      <td>2020</td>\n      <td>11</td>\n      <td>25</td>\n      <td>18</td>\n      <td>1240</td>\n    </tr>\n    <tr>\n      <th>1</th>\n      <td>2e68e62f4_2020-11-29_20</td>\n      <td>2e68e62f4</td>\n      <td>2020</td>\n      <td>11</td>\n      <td>29</td>\n      <td>20</td>\n      <td>115</td>\n    </tr>\n    <tr>\n      <th>2</th>\n      <td>2e68e81a4_2020-11-27_10</td>\n      <td>2e68e81a4</td>\n      <td>2020</td>\n      <td>11</td>\n      <td>27</td>\n      <td>10</td>\n      <td>350</td>\n    </tr>\n    <tr>\n      <th>3</th>\n      <td>2e69eec04_2020-11-24_7</td>\n      <td>2e69eec04</td>\n      <td>2020</td>\n      <td>11</td>\n      <td>24</td>\n      <td>7</td>\n      <td>1894</td>\n    </tr>\n    <tr>\n      <th>4</th>\n      <td>2e698e4a4_2020-11-27_8</td>\n      <td>2e698e4a4</td>\n      <td>2020</td>\n      <td>11</td>\n      <td>27</td>\n      <td>8</td>\n      <td>956</td>\n    </tr>\n    <tr>\n      <th>...</th>\n      <td>...</td>\n      <td>...</td>\n      <td>...</td>\n      <td>...</td>\n      <td>...</td>\n      <td>...</td>\n      <td>...</td>\n    </tr>\n    <tr>\n      <th>13836</th>\n      <td>2e68dd414_2020-11-26_5</td>\n      <td>2e68dd414</td>\n      <td>2020</td>\n      <td>11</td>\n      <td>26</td>\n      <td>5</td>\n      <td>25</td>\n    </tr>\n    <tr>\n      <th>13837</th>\n      <td>2e698541c_2020-11-24_22</td>\n      <td>2e698541c</td>\n      <td>2020</td>\n      <td>11</td>\n      <td>24</td>\n      <td>22</td>\n      <td>582</td>\n    </tr>\n    <tr>\n      <th>13838</th>\n      <td>2e69e8e0c_2020-11-24_10</td>\n      <td>2e69e8e0c</td>\n      <td>2020</td>\n      <td>11</td>\n      <td>24</td>\n      <td>10</td>\n      <td>1664</td>\n    </tr>\n    <tr>\n      <th>13839</th>\n      <td>2e699a1cc_2020-11-24_18</td>\n      <td>2e699a1cc</td>\n      <td>2020</td>\n      <td>11</td>\n      <td>24</td>\n      <td>18</td>\n      <td>1359</td>\n    </tr>\n    <tr>\n      <th>13840</th>\n      <td>2e698d804_2020-11-25_19</td>\n      <td>2e698d804</td>\n      <td>2020</td>\n      <td>11</td>\n      <td>25</td>\n      <td>19</td>\n      <td>865</td>\n    </tr>\n  </tbody>\n</table>\n<p>13841 rows × 7 columns</p>\n</div>"
     },
     "metadata": {},
     "execution_count": 33
    }
   ],
   "source": [
    "test"
   ]
  },
  {
   "cell_type": "code",
   "execution_count": 39,
   "metadata": {},
   "outputs": [],
   "source": [
    "# df_test_ohe = pd.concat([test, test_ohe], axis=1)"
   ]
  },
  {
   "cell_type": "code",
   "execution_count": 34,
   "metadata": {},
   "outputs": [],
   "source": [
    "test.drop(['Ids','token'], axis=1, inplace=True)"
   ]
  },
  {
   "cell_type": "code",
   "execution_count": 35,
   "metadata": {},
   "outputs": [
    {
     "output_type": "execute_result",
     "data": {
      "text/plain": [
       "       year  month  date  hour   tok\n",
       "0      2020     11    25    18  1240\n",
       "1      2020     11    29    20   115\n",
       "2      2020     11    27    10   350\n",
       "3      2020     11    24     7  1894\n",
       "4      2020     11    27     8   956\n",
       "...     ...    ...   ...   ...   ...\n",
       "13836  2020     11    26     5    25\n",
       "13837  2020     11    24    22   582\n",
       "13838  2020     11    24    10  1664\n",
       "13839  2020     11    24    18  1359\n",
       "13840  2020     11    25    19   865\n",
       "\n",
       "[13841 rows x 5 columns]"
      ],
      "text/html": "<div>\n<style scoped>\n    .dataframe tbody tr th:only-of-type {\n        vertical-align: middle;\n    }\n\n    .dataframe tbody tr th {\n        vertical-align: top;\n    }\n\n    .dataframe thead th {\n        text-align: right;\n    }\n</style>\n<table border=\"1\" class=\"dataframe\">\n  <thead>\n    <tr style=\"text-align: right;\">\n      <th></th>\n      <th>year</th>\n      <th>month</th>\n      <th>date</th>\n      <th>hour</th>\n      <th>tok</th>\n    </tr>\n  </thead>\n  <tbody>\n    <tr>\n      <th>0</th>\n      <td>2020</td>\n      <td>11</td>\n      <td>25</td>\n      <td>18</td>\n      <td>1240</td>\n    </tr>\n    <tr>\n      <th>1</th>\n      <td>2020</td>\n      <td>11</td>\n      <td>29</td>\n      <td>20</td>\n      <td>115</td>\n    </tr>\n    <tr>\n      <th>2</th>\n      <td>2020</td>\n      <td>11</td>\n      <td>27</td>\n      <td>10</td>\n      <td>350</td>\n    </tr>\n    <tr>\n      <th>3</th>\n      <td>2020</td>\n      <td>11</td>\n      <td>24</td>\n      <td>7</td>\n      <td>1894</td>\n    </tr>\n    <tr>\n      <th>4</th>\n      <td>2020</td>\n      <td>11</td>\n      <td>27</td>\n      <td>8</td>\n      <td>956</td>\n    </tr>\n    <tr>\n      <th>...</th>\n      <td>...</td>\n      <td>...</td>\n      <td>...</td>\n      <td>...</td>\n      <td>...</td>\n    </tr>\n    <tr>\n      <th>13836</th>\n      <td>2020</td>\n      <td>11</td>\n      <td>26</td>\n      <td>5</td>\n      <td>25</td>\n    </tr>\n    <tr>\n      <th>13837</th>\n      <td>2020</td>\n      <td>11</td>\n      <td>24</td>\n      <td>22</td>\n      <td>582</td>\n    </tr>\n    <tr>\n      <th>13838</th>\n      <td>2020</td>\n      <td>11</td>\n      <td>24</td>\n      <td>10</td>\n      <td>1664</td>\n    </tr>\n    <tr>\n      <th>13839</th>\n      <td>2020</td>\n      <td>11</td>\n      <td>24</td>\n      <td>18</td>\n      <td>1359</td>\n    </tr>\n    <tr>\n      <th>13840</th>\n      <td>2020</td>\n      <td>11</td>\n      <td>25</td>\n      <td>19</td>\n      <td>865</td>\n    </tr>\n  </tbody>\n</table>\n<p>13841 rows × 5 columns</p>\n</div>"
     },
     "metadata": {},
     "execution_count": 35
    }
   ],
   "source": [
    "test"
   ]
  },
  {
   "cell_type": "code",
   "execution_count": 36,
   "metadata": {},
   "outputs": [],
   "source": [
    "submit = pd.DataFrame()"
   ]
  },
  {
   "cell_type": "code",
   "execution_count": 41,
   "metadata": {},
   "outputs": [],
   "source": [
    "submit['Ids'] = test['Ids']"
   ]
  },
  {
   "cell_type": "code",
   "execution_count": 38,
   "metadata": {},
   "outputs": [],
   "source": [
    "submit['Labels'] = clf.predict(test)"
   ]
  },
  {
   "cell_type": "code",
   "execution_count": 42,
   "metadata": {},
   "outputs": [
    {
     "output_type": "execute_result",
     "data": {
      "text/plain": [
       "       Labels                      Ids\n",
       "0       False  2e6992a84_2020-11-25_18\n",
       "1        True  2e68e62f4_2020-11-29_20\n",
       "2       False  2e68e81a4_2020-11-27_10\n",
       "3       False   2e69eec04_2020-11-24_7\n",
       "4        True   2e698e4a4_2020-11-27_8\n",
       "...       ...                      ...\n",
       "13836   False   2e68dd414_2020-11-26_5\n",
       "13837   False  2e698541c_2020-11-24_22\n",
       "13838   False  2e69e8e0c_2020-11-24_10\n",
       "13839   False  2e699a1cc_2020-11-24_18\n",
       "13840   False  2e698d804_2020-11-25_19\n",
       "\n",
       "[13841 rows x 2 columns]"
      ],
      "text/html": "<div>\n<style scoped>\n    .dataframe tbody tr th:only-of-type {\n        vertical-align: middle;\n    }\n\n    .dataframe tbody tr th {\n        vertical-align: top;\n    }\n\n    .dataframe thead th {\n        text-align: right;\n    }\n</style>\n<table border=\"1\" class=\"dataframe\">\n  <thead>\n    <tr style=\"text-align: right;\">\n      <th></th>\n      <th>Labels</th>\n      <th>Ids</th>\n    </tr>\n  </thead>\n  <tbody>\n    <tr>\n      <th>0</th>\n      <td>False</td>\n      <td>2e6992a84_2020-11-25_18</td>\n    </tr>\n    <tr>\n      <th>1</th>\n      <td>True</td>\n      <td>2e68e62f4_2020-11-29_20</td>\n    </tr>\n    <tr>\n      <th>2</th>\n      <td>False</td>\n      <td>2e68e81a4_2020-11-27_10</td>\n    </tr>\n    <tr>\n      <th>3</th>\n      <td>False</td>\n      <td>2e69eec04_2020-11-24_7</td>\n    </tr>\n    <tr>\n      <th>4</th>\n      <td>True</td>\n      <td>2e698e4a4_2020-11-27_8</td>\n    </tr>\n    <tr>\n      <th>...</th>\n      <td>...</td>\n      <td>...</td>\n    </tr>\n    <tr>\n      <th>13836</th>\n      <td>False</td>\n      <td>2e68dd414_2020-11-26_5</td>\n    </tr>\n    <tr>\n      <th>13837</th>\n      <td>False</td>\n      <td>2e698541c_2020-11-24_22</td>\n    </tr>\n    <tr>\n      <th>13838</th>\n      <td>False</td>\n      <td>2e69e8e0c_2020-11-24_10</td>\n    </tr>\n    <tr>\n      <th>13839</th>\n      <td>False</td>\n      <td>2e699a1cc_2020-11-24_18</td>\n    </tr>\n    <tr>\n      <th>13840</th>\n      <td>False</td>\n      <td>2e698d804_2020-11-25_19</td>\n    </tr>\n  </tbody>\n</table>\n<p>13841 rows × 2 columns</p>\n</div>"
     },
     "metadata": {},
     "execution_count": 42
    }
   ],
   "source": [
    "submit"
   ]
  },
  {
   "cell_type": "code",
   "execution_count": 45,
   "metadata": {},
   "outputs": [],
   "source": [
    "columns_titles = [\"Ids\",\"Labels\"]\n",
    "submit=submit.reindex(columns=columns_titles)"
   ]
  },
  {
   "cell_type": "code",
   "execution_count": 46,
   "metadata": {},
   "outputs": [
    {
     "output_type": "execute_result",
     "data": {
      "text/plain": [
       "                           Ids  Labels\n",
       "0      2e6992a84_2020-11-25_18   False\n",
       "1      2e68e62f4_2020-11-29_20    True\n",
       "2      2e68e81a4_2020-11-27_10   False\n",
       "3       2e69eec04_2020-11-24_7   False\n",
       "4       2e698e4a4_2020-11-27_8    True\n",
       "...                        ...     ...\n",
       "13836   2e68dd414_2020-11-26_5   False\n",
       "13837  2e698541c_2020-11-24_22   False\n",
       "13838  2e69e8e0c_2020-11-24_10   False\n",
       "13839  2e699a1cc_2020-11-24_18   False\n",
       "13840  2e698d804_2020-11-25_19   False\n",
       "\n",
       "[13841 rows x 2 columns]"
      ],
      "text/html": "<div>\n<style scoped>\n    .dataframe tbody tr th:only-of-type {\n        vertical-align: middle;\n    }\n\n    .dataframe tbody tr th {\n        vertical-align: top;\n    }\n\n    .dataframe thead th {\n        text-align: right;\n    }\n</style>\n<table border=\"1\" class=\"dataframe\">\n  <thead>\n    <tr style=\"text-align: right;\">\n      <th></th>\n      <th>Ids</th>\n      <th>Labels</th>\n    </tr>\n  </thead>\n  <tbody>\n    <tr>\n      <th>0</th>\n      <td>2e6992a84_2020-11-25_18</td>\n      <td>False</td>\n    </tr>\n    <tr>\n      <th>1</th>\n      <td>2e68e62f4_2020-11-29_20</td>\n      <td>True</td>\n    </tr>\n    <tr>\n      <th>2</th>\n      <td>2e68e81a4_2020-11-27_10</td>\n      <td>False</td>\n    </tr>\n    <tr>\n      <th>3</th>\n      <td>2e69eec04_2020-11-24_7</td>\n      <td>False</td>\n    </tr>\n    <tr>\n      <th>4</th>\n      <td>2e698e4a4_2020-11-27_8</td>\n      <td>True</td>\n    </tr>\n    <tr>\n      <th>...</th>\n      <td>...</td>\n      <td>...</td>\n    </tr>\n    <tr>\n      <th>13836</th>\n      <td>2e68dd414_2020-11-26_5</td>\n      <td>False</td>\n    </tr>\n    <tr>\n      <th>13837</th>\n      <td>2e698541c_2020-11-24_22</td>\n      <td>False</td>\n    </tr>\n    <tr>\n      <th>13838</th>\n      <td>2e69e8e0c_2020-11-24_10</td>\n      <td>False</td>\n    </tr>\n    <tr>\n      <th>13839</th>\n      <td>2e699a1cc_2020-11-24_18</td>\n      <td>False</td>\n    </tr>\n    <tr>\n      <th>13840</th>\n      <td>2e698d804_2020-11-25_19</td>\n      <td>False</td>\n    </tr>\n  </tbody>\n</table>\n<p>13841 rows × 2 columns</p>\n</div>"
     },
     "metadata": {},
     "execution_count": 46
    }
   ],
   "source": [
    "submit"
   ]
  },
  {
   "cell_type": "code",
   "execution_count": 49,
   "metadata": {},
   "outputs": [],
   "source": [
    "submit.set_index('Ids', inplace=True)"
   ]
  },
  {
   "cell_type": "code",
   "execution_count": 50,
   "metadata": {},
   "outputs": [
    {
     "output_type": "execute_result",
     "data": {
      "text/plain": [
       "                         Labels\n",
       "Ids                            \n",
       "2e6992a84_2020-11-25_18   False\n",
       "2e68e62f4_2020-11-29_20    True\n",
       "2e68e81a4_2020-11-27_10   False\n",
       "2e69eec04_2020-11-24_7    False\n",
       "2e698e4a4_2020-11-27_8     True\n",
       "...                         ...\n",
       "2e68dd414_2020-11-26_5    False\n",
       "2e698541c_2020-11-24_22   False\n",
       "2e69e8e0c_2020-11-24_10   False\n",
       "2e699a1cc_2020-11-24_18   False\n",
       "2e698d804_2020-11-25_19   False\n",
       "\n",
       "[13841 rows x 1 columns]"
      ],
      "text/html": "<div>\n<style scoped>\n    .dataframe tbody tr th:only-of-type {\n        vertical-align: middle;\n    }\n\n    .dataframe tbody tr th {\n        vertical-align: top;\n    }\n\n    .dataframe thead th {\n        text-align: right;\n    }\n</style>\n<table border=\"1\" class=\"dataframe\">\n  <thead>\n    <tr style=\"text-align: right;\">\n      <th></th>\n      <th>Labels</th>\n    </tr>\n    <tr>\n      <th>Ids</th>\n      <th></th>\n    </tr>\n  </thead>\n  <tbody>\n    <tr>\n      <th>2e6992a84_2020-11-25_18</th>\n      <td>False</td>\n    </tr>\n    <tr>\n      <th>2e68e62f4_2020-11-29_20</th>\n      <td>True</td>\n    </tr>\n    <tr>\n      <th>2e68e81a4_2020-11-27_10</th>\n      <td>False</td>\n    </tr>\n    <tr>\n      <th>2e69eec04_2020-11-24_7</th>\n      <td>False</td>\n    </tr>\n    <tr>\n      <th>2e698e4a4_2020-11-27_8</th>\n      <td>True</td>\n    </tr>\n    <tr>\n      <th>...</th>\n      <td>...</td>\n    </tr>\n    <tr>\n      <th>2e68dd414_2020-11-26_5</th>\n      <td>False</td>\n    </tr>\n    <tr>\n      <th>2e698541c_2020-11-24_22</th>\n      <td>False</td>\n    </tr>\n    <tr>\n      <th>2e69e8e0c_2020-11-24_10</th>\n      <td>False</td>\n    </tr>\n    <tr>\n      <th>2e699a1cc_2020-11-24_18</th>\n      <td>False</td>\n    </tr>\n    <tr>\n      <th>2e698d804_2020-11-25_19</th>\n      <td>False</td>\n    </tr>\n  </tbody>\n</table>\n<p>13841 rows × 1 columns</p>\n</div>"
     },
     "metadata": {},
     "execution_count": 50
    }
   ],
   "source": [
    "submit"
   ]
  },
  {
   "cell_type": "code",
   "execution_count": 53,
   "metadata": {},
   "outputs": [],
   "source": [
    "submit.to_csv('D:\\Sinau\\danthon-dsw2021\\data_submit\\coba_rf1.csv')"
   ]
  },
  {
   "cell_type": "code",
   "execution_count": 54,
   "metadata": {},
   "outputs": [
    {
     "output_type": "execute_result",
     "data": {
      "text/plain": [
       "                           Ids  Labels\n",
       "0      2e6992a84_2020-11-25_18   False\n",
       "1      2e68e62f4_2020-11-29_20    True\n",
       "2      2e68e81a4_2020-11-27_10   False\n",
       "3       2e69eec04_2020-11-24_7   False\n",
       "4       2e698e4a4_2020-11-27_8    True\n",
       "...                        ...     ...\n",
       "13836   2e68dd414_2020-11-26_5   False\n",
       "13837  2e698541c_2020-11-24_22   False\n",
       "13838  2e69e8e0c_2020-11-24_10   False\n",
       "13839  2e699a1cc_2020-11-24_18   False\n",
       "13840  2e698d804_2020-11-25_19   False\n",
       "\n",
       "[13841 rows x 2 columns]"
      ],
      "text/html": "<div>\n<style scoped>\n    .dataframe tbody tr th:only-of-type {\n        vertical-align: middle;\n    }\n\n    .dataframe tbody tr th {\n        vertical-align: top;\n    }\n\n    .dataframe thead th {\n        text-align: right;\n    }\n</style>\n<table border=\"1\" class=\"dataframe\">\n  <thead>\n    <tr style=\"text-align: right;\">\n      <th></th>\n      <th>Ids</th>\n      <th>Labels</th>\n    </tr>\n  </thead>\n  <tbody>\n    <tr>\n      <th>0</th>\n      <td>2e6992a84_2020-11-25_18</td>\n      <td>False</td>\n    </tr>\n    <tr>\n      <th>1</th>\n      <td>2e68e62f4_2020-11-29_20</td>\n      <td>True</td>\n    </tr>\n    <tr>\n      <th>2</th>\n      <td>2e68e81a4_2020-11-27_10</td>\n      <td>False</td>\n    </tr>\n    <tr>\n      <th>3</th>\n      <td>2e69eec04_2020-11-24_7</td>\n      <td>False</td>\n    </tr>\n    <tr>\n      <th>4</th>\n      <td>2e698e4a4_2020-11-27_8</td>\n      <td>True</td>\n    </tr>\n    <tr>\n      <th>...</th>\n      <td>...</td>\n      <td>...</td>\n    </tr>\n    <tr>\n      <th>13836</th>\n      <td>2e68dd414_2020-11-26_5</td>\n      <td>False</td>\n    </tr>\n    <tr>\n      <th>13837</th>\n      <td>2e698541c_2020-11-24_22</td>\n      <td>False</td>\n    </tr>\n    <tr>\n      <th>13838</th>\n      <td>2e69e8e0c_2020-11-24_10</td>\n      <td>False</td>\n    </tr>\n    <tr>\n      <th>13839</th>\n      <td>2e699a1cc_2020-11-24_18</td>\n      <td>False</td>\n    </tr>\n    <tr>\n      <th>13840</th>\n      <td>2e698d804_2020-11-25_19</td>\n      <td>False</td>\n    </tr>\n  </tbody>\n</table>\n<p>13841 rows × 2 columns</p>\n</div>"
     },
     "metadata": {},
     "execution_count": 54
    }
   ],
   "source": [
    "pd.read_csv('D:\\Sinau\\danthon-dsw2021\\data_submit\\coba_rf1.csv')"
   ]
  },
  {
   "cell_type": "code",
   "execution_count": null,
   "metadata": {},
   "outputs": [],
   "source": []
  }
 ]
}